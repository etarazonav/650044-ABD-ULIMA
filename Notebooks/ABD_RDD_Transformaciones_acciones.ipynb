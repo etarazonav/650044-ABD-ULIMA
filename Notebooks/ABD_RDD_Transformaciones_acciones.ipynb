{
  "nbformat": 4,
  "nbformat_minor": 0,
  "metadata": {
    "colab": {
      "provenance": [],
      "include_colab_link": true
    },
    "kernelspec": {
      "name": "python3",
      "display_name": "Python 3"
    },
    "language_info": {
      "name": "python"
    }
  },
  "cells": [
    {
      "cell_type": "markdown",
      "metadata": {
        "id": "view-in-github",
        "colab_type": "text"
      },
      "source": [
        "<a href=\"https://colab.research.google.com/github/etarazonav/650044-ABD-ULIMA/blob/main/Notebooks/ABD_RDD_Transformaciones_acciones.ipynb\" target=\"_parent\"><img src=\"https://colab.research.google.com/assets/colab-badge.svg\" alt=\"Open In Colab\"/></a>"
      ]
    },
    {
      "cell_type": "markdown",
      "source": [
        "# <img style=\"float: left; padding: 0px 10px 0px 0px;\" src=\"https://upload.wikimedia.org/wikipedia/commons/thumb/a/a0/Universidad_de_Lima_logo.png/220px-Universidad_de_Lima_logo.png\"  width=\"120\" /> Transformaciones y Acciones usando PySpark\n",
        "**Profesor:** Enver G. Tarazona Vargas <br>\n",
        "**Curso:** Analítica con Big Data <br>\n",
        "**FACULTAD DE INGENIERÍA - CARRERA DE INGENIERÍA DE SISTEMAS**<br>\n"
      ],
      "metadata": {
        "id": "ys5C88QroBHg"
      }
    },
    {
      "cell_type": "markdown",
      "source": [
        "Si se utiliza un entorno en el que no está instalado por defecto Spark, es neceario instalarlo (usando pip) y luego crear un contexto de Spark. En este caso, el contexto de Spark se crea con un solo hilo en local, y el nombre de la aplicación es `ejemplo_transformaciones`"
      ],
      "metadata": {
        "id": "WAXF4_ImLfBd"
      }
    },
    {
      "cell_type": "code",
      "metadata": {
        "id": "ekD4d2ym-8Pt"
      },
      "source": [
        "!pip install -q pyspark"
      ],
      "execution_count": null,
      "outputs": []
    },
    {
      "cell_type": "code",
      "metadata": {
        "id": "sydcN-l4--LD"
      },
      "source": [
        "from pyspark import SparkContext\n",
        "\n",
        "sc = SparkContext(\"local[1]\", \"ejemplo_transformaciones\")"
      ],
      "execution_count": null,
      "outputs": []
    },
    {
      "cell_type": "markdown",
      "metadata": {
        "id": "_vc0np0pPR2W"
      },
      "source": [
        "## 1.&nbsp;Transformaciones"
      ]
    },
    {
      "cell_type": "markdown",
      "metadata": {
        "id": "Z_dgmIk1NhMY"
      },
      "source": [
        "### 1.1. Map\n",
        "\n",
        "Se utiliza para realizar un mapeo de un RDD a otro RDD término a término. El mapeo se especifica mediante una función, que puede ser anónima (`lambda`) o puede haber sido definida usando `def`."
      ]
    },
    {
      "cell_type": "code",
      "metadata": {
        "id": "6k0J9wcD_Fq4"
      },
      "source": [
        "# Creación de un RDD\n",
        "rdd = sc.parallelize([1, 4, 6, 3])\n",
        "\n",
        "# Map: se sumará 10 a cada elemento del RDD\n",
        "rdd2 = rdd.map(lambda x: x+10)\n",
        "\n",
        "# Mostrar el contenido del RDD creado usando map\n",
        "rdd2.collect()"
      ],
      "execution_count": null,
      "outputs": []
    },
    {
      "cell_type": "markdown",
      "source": [
        "El siguiente ejemplo crea un RDD conteniendo un conjunto de cadenas de caracteres. Luego, se utiliza un `map` para obtener la cantidad de letras que tiene cada cadena de caracteres."
      ],
      "metadata": {
        "id": "lThbiJtVMGxs"
      }
    },
    {
      "cell_type": "code",
      "metadata": {
        "id": "P6hdInAcbQj-"
      },
      "source": [
        "# Creación del RDD\n",
        "rdd = sc.parallelize(['este es un texto', 'este es otro texto de prueba', 'prueba 1'])\n",
        "\n",
        "# Map: obtiene las cantidades de letras de cada cadena de caracteres (usando \"len\")\n",
        "rdd2 = rdd.map(lambda x: len(x))\n",
        "\n",
        "# Se muestra el resultado (utilizando la acción \"collect\")\n",
        "rdd2.collect()"
      ],
      "execution_count": null,
      "outputs": []
    },
    {
      "cell_type": "code",
      "source": [
        "# De manera alternativa se puede realizar el map y mostrarlo en una sola instrucción\n",
        "rdd.map(lambda x: len(x)).collect()"
      ],
      "metadata": {
        "id": "tCL4mz_bMcbE"
      },
      "execution_count": null,
      "outputs": []
    },
    {
      "cell_type": "markdown",
      "metadata": {
        "id": "UPwA3973Nrxb"
      },
      "source": [
        "### 1.2. Filter (filtro)\n",
        "\n",
        "* Ejemplo 1: Filtro que solo mantiene aquellos valores mayores o iguales a 6. En este caso se utiliza una función anónima `lambda`."
      ]
    },
    {
      "cell_type": "code",
      "metadata": {
        "id": "EBvjUrHe_Fnv"
      },
      "source": [
        "# Creación de un RDD\n",
        "rdd = sc.parallelize([1, 4, 6, 3, 10, 15, 16])\n",
        "\n",
        "# Filtro: solo mantiene aquellos elementos del RDD mayores o iguales a 6\n",
        "rdd2 = rdd.filter(lambda x: x>=6)\n",
        "\n",
        "# Mostrar el resultado usando la acción \"collect\"\n",
        "rdd2.collect()"
      ],
      "execution_count": null,
      "outputs": []
    },
    {
      "cell_type": "markdown",
      "source": [
        "* Ejemplo 2: Filtro que solo mantiene aquellas cadenas de caracteres que tengan menos de 20 caracteres"
      ],
      "metadata": {
        "id": "_fv4KOoENA78"
      }
    },
    {
      "cell_type": "code",
      "metadata": {
        "id": "pBecSM3Jbt3n"
      },
      "source": [
        "# Creación del RDD\n",
        "rdd = sc.parallelize(['este es un texto', 'este es otro texto de prueba', 'prueba 1'])\n",
        "\n",
        "# Función que retorna el valor de entrada si tiene una longitud menor a 20\n",
        "def fmenor20(x):\n",
        "    if (len (x) < 20):\n",
        "        return x\n",
        "\n",
        "# Filtro aplicando la función anterior\n",
        "rdd.filter(fmenor20).collect()"
      ],
      "execution_count": null,
      "outputs": []
    },
    {
      "cell_type": "markdown",
      "metadata": {
        "id": "3e8hGwZCEEqX"
      },
      "source": [
        "### 1.3. Map y FlatMap"
      ]
    },
    {
      "cell_type": "code",
      "metadata": {
        "id": "65ywfVQd_FkW"
      },
      "source": [
        "# Creación de un RDD\n",
        "rdd = sc.parallelize([1, 4, 6, 3])"
      ],
      "execution_count": null,
      "outputs": []
    },
    {
      "cell_type": "markdown",
      "source": [
        "* Ejemplo 1: Aplicación de un `map` o `flatMap` para multiplicar a cada elemento por 10 creando como salida una lista formada por el valor original y el valor multiplicado por 10"
      ],
      "metadata": {
        "id": "_25EK4gvOVFz"
      }
    },
    {
      "cell_type": "code",
      "source": [
        "# Aplicación de un mapa\n",
        "rdd_map = rdd.map(lambda x: [x, 10*x])\n",
        "\n",
        "# La salida mantiene la estructura deseada de la lista: [x, 10x]\n",
        "rdd_map.collect()"
      ],
      "metadata": {
        "id": "T68g6D-lNulu"
      },
      "execution_count": null,
      "outputs": []
    },
    {
      "cell_type": "code",
      "metadata": {
        "id": "0FoHlQn7_Fha"
      },
      "source": [
        "# Aplicación de un flatmap\n",
        "rdd_flatmap = rdd.flatMap(lambda x: [x, 10*x])\n",
        "\n",
        "# La salida no mantiene la estructura de lista\n",
        "rdd_flatmap.collect()"
      ],
      "execution_count": null,
      "outputs": []
    },
    {
      "cell_type": "markdown",
      "source": [
        "* Ejemplo 2: separar una cadena de caracteres en palabras."
      ],
      "metadata": {
        "id": "Pf05XBZ4OvNv"
      }
    },
    {
      "cell_type": "code",
      "metadata": {
        "id": "qALwsg8W_Fex"
      },
      "source": [
        "# Creación del rdd\n",
        "rdd = sc.parallelize([\"hola mundo\", \"hoy es jueves\"])\n",
        "\n",
        "rdd.collect()"
      ],
      "execution_count": null,
      "outputs": []
    },
    {
      "cell_type": "code",
      "source": [
        "# Aplicación de map\n",
        "rdd_map = rdd.map(lambda x: x.split(\" \"))\n",
        "rdd_map.collect()"
      ],
      "metadata": {
        "id": "w9TLtXdVO7NC"
      },
      "execution_count": null,
      "outputs": []
    },
    {
      "cell_type": "code",
      "metadata": {
        "id": "EjP9_f6D_FcW"
      },
      "source": [
        "# Aplicación de flatmap\n",
        "rdd_flatmap = rdd.flatMap(lambda x: x.split(\" \"))\n",
        "rdd_flatmap.collect()"
      ],
      "execution_count": null,
      "outputs": []
    },
    {
      "cell_type": "markdown",
      "metadata": {
        "id": "kp_oZhkvFWjv"
      },
      "source": [
        "### 1.4. GroupByKey"
      ]
    },
    {
      "cell_type": "code",
      "metadata": {
        "id": "QD0LDm87_FZp"
      },
      "source": [
        "rdd = sc.parallelize([('a',7), ('b',4), ('a',1), ('b',6), ('c',3)])\n",
        "rdd.collect()"
      ],
      "execution_count": null,
      "outputs": []
    },
    {
      "cell_type": "code",
      "metadata": {
        "id": "7Dcxh-pE_FWs"
      },
      "source": [
        "# Aplicación de agrupamiento por clave\n",
        "rdd2 = rdd.groupByKey()\n",
        "\n",
        "rdd2.collect()"
      ],
      "execution_count": null,
      "outputs": []
    },
    {
      "cell_type": "markdown",
      "source": [
        "Como se observa, al utilizar `groupByKey`, los valores se encuentran en formato de iterable de Spark. Para poder visualizarlos se debe convertir estos valores iterables en una lista. Esta conversión se puede realizar utilizando `mapValues(list)` que mapea solo los valores a listas"
      ],
      "metadata": {
        "id": "g5LRzcf-PQz9"
      }
    },
    {
      "cell_type": "code",
      "metadata": {
        "id": "18WuQVzcF16r"
      },
      "source": [
        "rdd2.mapValues(list).collect()"
      ],
      "execution_count": null,
      "outputs": []
    },
    {
      "cell_type": "code",
      "source": [
        "# El resultado es similar al caso anterior\n",
        "rdd2.mapValues(lambda v: list(v)).collect()"
      ],
      "metadata": {
        "id": "bcWg6avgPlgM"
      },
      "execution_count": null,
      "outputs": []
    },
    {
      "cell_type": "markdown",
      "source": [
        "Alternativamente, se puede utilizar el método `.data` de los iterables, que permiten recuperar los datos. Con este fin, se puede utilizar nuevamente `mapValues`."
      ],
      "metadata": {
        "id": "_XxKf8WkQJv8"
      }
    },
    {
      "cell_type": "code",
      "source": [
        "rdd2.mapValues(lambda v: v.data).collect()"
      ],
      "metadata": {
        "id": "qKdqh697P_Zy"
      },
      "execution_count": null,
      "outputs": []
    },
    {
      "cell_type": "markdown",
      "metadata": {
        "id": "PWtJttSwHtny"
      },
      "source": [
        "### 1.5. Cogroup"
      ]
    },
    {
      "cell_type": "code",
      "metadata": {
        "id": "XccTAgWWGUED"
      },
      "source": [
        "rdd = sc.parallelize([('a',7), ('b',4), ('a',1), ('b',6), ('c',3)])\n",
        "rdd2 = sc.parallelize([('a',5), ('b',9)])\n",
        "\n",
        "rdd3 = rdd.cogroup(rdd2)\n",
        "rdd3.collect()"
      ],
      "execution_count": null,
      "outputs": []
    },
    {
      "cell_type": "markdown",
      "source": [
        "En este caso, los valores de cada elemento son tuplas de dos iterables. Por tanto, se puede utilizar `mapValues` para mapear a cada valor una conversión a lista, o el uso de `.data`, que también recupera los datos del iterable."
      ],
      "metadata": {
        "id": "7p1819i1Pz-R"
      }
    },
    {
      "cell_type": "code",
      "metadata": {
        "id": "XEz-4Gb1H9x8"
      },
      "source": [
        "rdd3.mapValues(lambda x: (x[0].data, x[1].data)).collect()"
      ],
      "execution_count": null,
      "outputs": []
    },
    {
      "cell_type": "markdown",
      "metadata": {
        "id": "2UOPVlBlJ0I1"
      },
      "source": [
        "### 1.6. Join"
      ]
    },
    {
      "cell_type": "code",
      "metadata": {
        "id": "75RLYSZRJBWq"
      },
      "source": [
        "rdd = sc.parallelize([('a',7), ('b',4), ('a',1), ('b',6), ('c',3)])\n",
        "rdd2 = sc.parallelize([('a',5), ('b',9), ('a',100)])\n",
        "\n",
        "rdd3 = rdd.join(rdd2)\n",
        "rdd3.collect()"
      ],
      "execution_count": null,
      "outputs": []
    },
    {
      "cell_type": "markdown",
      "metadata": {
        "id": "qj9BqEOILNjN"
      },
      "source": [
        "### 1.7. Operadores de Conjuntos"
      ]
    },
    {
      "cell_type": "code",
      "metadata": {
        "id": "4tTYYXRCK0PS"
      },
      "source": [
        "rdd1 = sc.parallelize([1, 3, 5, 7])\n",
        "rdd2 = sc.parallelize([20, 7, 40, 60, 5])\n",
        "\n",
        "rdd1.union(rdd2).collect()"
      ],
      "execution_count": null,
      "outputs": []
    },
    {
      "cell_type": "code",
      "metadata": {
        "id": "OgAp3ViJK0GN"
      },
      "source": [
        "rdd1.intersection(rdd2).collect()"
      ],
      "execution_count": null,
      "outputs": []
    },
    {
      "cell_type": "code",
      "metadata": {
        "id": "AZcBAUDCLC2Q"
      },
      "source": [
        "rdd1.subtract(rdd2).collect()"
      ],
      "execution_count": null,
      "outputs": []
    },
    {
      "cell_type": "code",
      "metadata": {
        "id": "yoX8MnpuLGMY"
      },
      "source": [
        "rdd1.cartesian(rdd2).collect()"
      ],
      "execution_count": null,
      "outputs": []
    },
    {
      "cell_type": "markdown",
      "metadata": {
        "id": "ljdTD1KlLvd_"
      },
      "source": [
        "### 1.8. ReduceByKey\n",
        "\n",
        "Requiere que el RDD de entrada contenga tuplas, y actúa reduciendo los valores de las tuplas que tienen la misma clave."
      ]
    },
    {
      "cell_type": "code",
      "metadata": {
        "id": "GIOpYjMKLw1C"
      },
      "source": [
        "# RDD de entrada\n",
        "rdd = sc.parallelize([('a',7), ('b',4), ('a',1), ('a',100), ('b',6), ('c',3)])\n",
        "rdd.collect()"
      ],
      "execution_count": null,
      "outputs": []
    },
    {
      "cell_type": "markdown",
      "source": [
        "En este ejemplo, se suma los valores que tienen las mismas tuplas (como la reducción de MapReduce)"
      ],
      "metadata": {
        "id": "B2JZstW9RDxk"
      }
    },
    {
      "cell_type": "code",
      "source": [
        "rdd.reduceByKey(lambda x,y: x+y).collect()"
      ],
      "metadata": {
        "id": "LfH59zW3Qux6"
      },
      "execution_count": null,
      "outputs": []
    },
    {
      "cell_type": "markdown",
      "metadata": {
        "id": "CwGNmkEvMVv4"
      },
      "source": [
        "### 1.9. SortByKey\n",
        "\n",
        "Ordena según las claves. Requiere que el RDD utilizado tenga datos en forma de tuplas."
      ]
    },
    {
      "cell_type": "code",
      "source": [
        "rdd = sc.parallelize([('a',7), ('b',4), ('a',1), ('a',100), ('b',6), ('c',3)])\n",
        "rdd.collect()"
      ],
      "metadata": {
        "id": "T3-nfJAlRUAW"
      },
      "execution_count": null,
      "outputs": []
    },
    {
      "cell_type": "code",
      "metadata": {
        "id": "0SwT_mLCL9ki"
      },
      "source": [
        "rdd.sortByKey().collect()"
      ],
      "execution_count": null,
      "outputs": []
    },
    {
      "cell_type": "code",
      "metadata": {
        "id": "k_FkVazjMd5P"
      },
      "source": [
        "rdd.sortByKey(ascending=False).collect()"
      ],
      "execution_count": null,
      "outputs": []
    },
    {
      "cell_type": "markdown",
      "metadata": {
        "id": "IF199uyScNHJ"
      },
      "source": [
        "## 2.&nbsp;Acciones"
      ]
    },
    {
      "cell_type": "markdown",
      "source": [
        "### 2.1. Collect, take, top"
      ],
      "metadata": {
        "id": "e19P20hPS8FK"
      }
    },
    {
      "cell_type": "code",
      "source": [
        "# Creación de un RDD\n",
        "lista = [40, 20, 50, 10, 70, 30]\n",
        "rdd = sc.parallelize(lista)"
      ],
      "metadata": {
        "id": "m3pK_eF_TAC0"
      },
      "execution_count": null,
      "outputs": []
    },
    {
      "cell_type": "markdown",
      "source": [
        "* `collect`: recupera todo el RDD y lo convierte a lista"
      ],
      "metadata": {
        "id": "JTV1ic3gTDP1"
      }
    },
    {
      "cell_type": "code",
      "metadata": {
        "id": "axqIYxhyMi2g"
      },
      "source": [
        "# Collect\n",
        "rdd.collect()"
      ],
      "execution_count": null,
      "outputs": []
    },
    {
      "cell_type": "markdown",
      "source": [
        "* `take(n)`: toma `n` valores del RDD"
      ],
      "metadata": {
        "id": "CN_e4pr8THtZ"
      }
    },
    {
      "cell_type": "code",
      "metadata": {
        "id": "4dceWS0EcRy8"
      },
      "source": [
        "# Take\n",
        "rdd.take(3)"
      ],
      "execution_count": null,
      "outputs": []
    },
    {
      "cell_type": "markdown",
      "source": [
        "* `top(n)`: Toma los `n` valores más altos del RDD"
      ],
      "metadata": {
        "id": "ghHOXHj9TODN"
      }
    },
    {
      "cell_type": "code",
      "metadata": {
        "id": "ZhfapQnrcWjF"
      },
      "source": [
        "# Top: 3 valores más altos\n",
        "rdd.top(3)"
      ],
      "execution_count": null,
      "outputs": []
    },
    {
      "cell_type": "markdown",
      "source": [
        "### 2.2. Reduce\n",
        "\n",
        "Reduce los valores según lo especificado por alguna función. En el siguiente ejemplo, reduce utilizando la suma de los elementos del RDD"
      ],
      "metadata": {
        "id": "K1cWpYTETXfZ"
      }
    },
    {
      "cell_type": "code",
      "metadata": {
        "id": "TefXngE4cZ7l"
      },
      "source": [
        "# Ejemplo usando la suma\n",
        "rdd.reduce(lambda x,y: x+y)"
      ],
      "execution_count": null,
      "outputs": []
    },
    {
      "cell_type": "markdown",
      "source": [
        "### 2.3. saveAsTextFile\n",
        "\n",
        "Almacena el RDD como un archivo de texto"
      ],
      "metadata": {
        "id": "bLUDYuccTt09"
      }
    },
    {
      "cell_type": "code",
      "source": [
        "# Creación del RDD\n",
        "rdd = sc.parallelize([\"Este es un archivo\", \"de texto de ejemplo\"])\n",
        "\n",
        "# Almacenamiento del RDD (especificando el nombre de la carpeta)\n",
        "rdd.saveAsTextFile(\"rdd_salida\")"
      ],
      "metadata": {
        "id": "JPJ_MvpNTz8F"
      },
      "execution_count": null,
      "outputs": []
    },
    {
      "cell_type": "markdown",
      "source": [
        "### 2.4. Ejemplo de procesamiento usando MapReduce"
      ],
      "metadata": {
        "id": "8ixdeIudUHq8"
      }
    },
    {
      "cell_type": "code",
      "source": [
        "# Creación de un RDD\n",
        "rdd = sc.parallelize(['Hola este es un texto', 'este es un párrafo', 'es'])\n",
        "rdd.collect()"
      ],
      "metadata": {
        "id": "TqdOV6UKUMuD"
      },
      "execution_count": null,
      "outputs": []
    },
    {
      "cell_type": "code",
      "metadata": {
        "id": "zIpmUYJaceBt"
      },
      "source": [
        "# Separación en palabras\n",
        "rdd.flatMap(lambda x: x.split(\" \")).collect()"
      ],
      "execution_count": null,
      "outputs": []
    },
    {
      "cell_type": "code",
      "metadata": {
        "id": "_MhE0lzecfs8"
      },
      "source": [
        "# Mapeo a 1 de cada palabra\n",
        "rdd.flatMap(lambda x: x.split(\" \")).map(lambda x: (x, 1)).collect()"
      ],
      "execution_count": null,
      "outputs": []
    },
    {
      "cell_type": "code",
      "metadata": {
        "id": "lWiWS0TnchH8"
      },
      "source": [
        "# Reducción: suma de valores para las mismas claves\n",
        "rdd.flatMap(lambda x: x.split(\" \")).map(lambda x: (x, 1)).reduceByKey(lambda x,y: x+y).collect()"
      ],
      "execution_count": null,
      "outputs": []
    },
    {
      "cell_type": "code",
      "metadata": {
        "id": "H7aoOs7eci08"
      },
      "source": [],
      "execution_count": null,
      "outputs": []
    }
  ]
}