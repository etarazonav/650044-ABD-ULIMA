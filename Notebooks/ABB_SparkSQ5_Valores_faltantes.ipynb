{
  "nbformat": 4,
  "nbformat_minor": 0,
  "metadata": {
    "colab": {
      "provenance": [],
      "include_colab_link": true
    },
    "kernelspec": {
      "display_name": "Python 3",
      "language": "python",
      "name": "python3"
    },
    "language_info": {
      "codemirror_mode": {
        "name": "ipython",
        "version": 3
      },
      "file_extension": ".py",
      "mimetype": "text/x-python",
      "name": "python",
      "nbconvert_exporter": "python",
      "pygments_lexer": "ipython3",
      "version": "3.8.5"
    }
  },
  "cells": [
    {
      "cell_type": "markdown",
      "metadata": {
        "id": "view-in-github",
        "colab_type": "text"
      },
      "source": [
        "<a href=\"https://colab.research.google.com/github/etarazonav/650044-ABD-ULIMA/blob/main/Notebooks/ABB_SparkSQ5_Valores_faltantes.ipynb\" target=\"_parent\"><img src=\"https://colab.research.google.com/assets/colab-badge.svg\" alt=\"Open In Colab\"/></a>"
      ]
    },
    {
      "cell_type": "markdown",
      "source": [
        "# <img style=\"float: left; padding: 0px 10px 0px 0px;\" src=\"https://upload.wikimedia.org/wikipedia/commons/thumb/a/a0/Universidad_de_Lima_logo.png/220px-Universidad_de_Lima_logo.png\"  width=\"120\" />  Parte 5: Valores Faltantes\n",
        "**Profesor:** Enver G. Tarazona Vargas <br>\n",
        "**Curso:** Analítica con Big Data <br>\n",
        "**FACULTAD DE INGENIERÍA - CARRERA DE INGENIERÍA DE SISTEMAS**<br>"
      ],
      "metadata": {
        "id": "TewUrQFOQnY_"
      }
    },
    {
      "cell_type": "code",
      "metadata": {
        "id": "guiPwJqfONjq"
      },
      "source": [
        "!pip install -q pyspark"
      ],
      "execution_count": null,
      "outputs": []
    },
    {
      "cell_type": "code",
      "metadata": {
        "id": "Qp5gbltBORd4"
      },
      "source": [
        "from pyspark.sql import SparkSession\n",
        "spark = SparkSession.builder.getOrCreate()"
      ],
      "execution_count": null,
      "outputs": []
    },
    {
      "cell_type": "code",
      "source": [
        "# Carga de archivos\n",
        "!wget -q https://raw.githubusercontent.com/etarazonav/650044-ABD-ULIMA/refs/heads/main/Datos/datos-nulos.csv"
      ],
      "metadata": {
        "id": "OeW3nzUgxYsG"
      },
      "execution_count": null,
      "outputs": []
    },
    {
      "cell_type": "code",
      "metadata": {
        "id": "3GinQbKaOJi1"
      },
      "source": [
        "df = spark.read.csv('datos-nulos.csv', header=True, inferSchema=True)\n",
        "df.show()"
      ],
      "execution_count": null,
      "outputs": []
    },
    {
      "cell_type": "markdown",
      "source": [
        "## 1.&nbsp;Eliminación de valores nulos\n",
        "\n",
        "Para eliminar las filas con valores nulos se utiliza `na.drop`.\n",
        "\n",
        "**Eliminación de todos los nulos**\n",
        "\n",
        "Si se utiliza sin argumentos elimina todas las filas que tengan nulos y mantiene solo aquellas filas sin ningún valor nulo."
      ],
      "metadata": {
        "id": "gB4v20qdmDy6"
      }
    },
    {
      "cell_type": "code",
      "metadata": {
        "id": "3vxkaSFNOJi5"
      },
      "source": [
        "# Eliminar todas las filas que tienen datos faltantes\n",
        "df.na.drop().show()"
      ],
      "execution_count": null,
      "outputs": []
    },
    {
      "cell_type": "markdown",
      "source": [
        "**Eliminación de algunos nulos**\n",
        "\n",
        "Cuando se utiliza la opción `thresh=N` se mantiene las filas que tengan al menos `N` valores no nulos y se elimina el resto."
      ],
      "metadata": {
        "id": "xyD3Qm07mi0f"
      }
    },
    {
      "cell_type": "code",
      "source": [
        "# Mantener las filas que tienen al menos 4 valores no nulos\n",
        "df.na.drop(thresh=4).show()"
      ],
      "metadata": {
        "id": "4tiPYiJqjhpn"
      },
      "execution_count": null,
      "outputs": []
    },
    {
      "cell_type": "code",
      "metadata": {
        "id": "Wu0Bz0gGP9w5"
      },
      "source": [
        "# Mantener las filas que tienen al menos 3 valores no nulos\n",
        "df.na.drop(thresh=3).show()"
      ],
      "execution_count": null,
      "outputs": []
    },
    {
      "cell_type": "code",
      "metadata": {
        "id": "HAqvmFz_OJi6"
      },
      "source": [
        "# Mantener las filas que tienen al menos 2 valores no nulos\n",
        "df.na.drop(thresh=2).show()"
      ],
      "execution_count": null,
      "outputs": []
    },
    {
      "cell_type": "code",
      "metadata": {
        "id": "dgUrCSFfOJi6"
      },
      "source": [
        "df.na.fill(\"NULO\").show()"
      ],
      "execution_count": null,
      "outputs": []
    },
    {
      "cell_type": "markdown",
      "source": [
        "Eliminación de la fila si hay algún valor nulo"
      ],
      "metadata": {
        "id": "NuNpkZw_ol4O"
      }
    },
    {
      "cell_type": "code",
      "metadata": {
        "id": "jkaO9ox-QSfv"
      },
      "source": [
        "df.na.drop(how='any').show()"
      ],
      "execution_count": null,
      "outputs": []
    },
    {
      "cell_type": "markdown",
      "source": [
        "Eliminación de la fila solo si todos los campos son nulos"
      ],
      "metadata": {
        "id": "_eJzsjKZoved"
      }
    },
    {
      "cell_type": "code",
      "metadata": {
        "id": "66eshTobQTdM"
      },
      "source": [
        "df.na.drop(how='all').show()"
      ],
      "execution_count": null,
      "outputs": []
    },
    {
      "cell_type": "markdown",
      "source": [
        "**Eliminación por columna**"
      ],
      "metadata": {
        "id": "NYfLoY9uo-Em"
      }
    },
    {
      "cell_type": "code",
      "metadata": {
        "id": "BpjhSpEcQJ1Q"
      },
      "source": [
        "# Eliminar valores nulos en una columna determinada\n",
        "df.na.drop(subset=[\"Ventas\"]).show()"
      ],
      "execution_count": null,
      "outputs": []
    },
    {
      "cell_type": "markdown",
      "metadata": {
        "id": "ePxrcLS_Qheh"
      },
      "source": [
        "## 2.&nbsp;Imputación de valores"
      ]
    },
    {
      "cell_type": "markdown",
      "source": [
        "Imputación de un valor determinado para todas las columas numéricas"
      ],
      "metadata": {
        "id": "3Wua09vHpbP9"
      }
    },
    {
      "cell_type": "code",
      "source": [
        "df.na.fill(0).show()"
      ],
      "metadata": {
        "id": "tPAoZwogl9uX"
      },
      "execution_count": null,
      "outputs": []
    },
    {
      "cell_type": "markdown",
      "source": [
        "Eliminación de un valor determinado para todas las columnas de tipo `string`."
      ],
      "metadata": {
        "id": "bxSd3td2phJt"
      }
    },
    {
      "cell_type": "code",
      "metadata": {
        "id": "KKcgf5p3i3yE"
      },
      "source": [
        "df.na.fill(\"No conocido\").show()"
      ],
      "execution_count": null,
      "outputs": []
    },
    {
      "cell_type": "markdown",
      "source": [
        "Imputación en una columna específica"
      ],
      "metadata": {
        "id": "BhJKsqrZpsav"
      }
    },
    {
      "cell_type": "code",
      "metadata": {
        "id": "F-bZWJ7PjJ1G"
      },
      "source": [
        "# En la columna Nombre únicamente\n",
        "df.na.fill(\"NN\", subset=['Nombre']).show()"
      ],
      "execution_count": null,
      "outputs": []
    },
    {
      "cell_type": "markdown",
      "source": [
        "Imputación utilizando la media"
      ],
      "metadata": {
        "id": "TABBWmr4p7y0"
      }
    },
    {
      "cell_type": "code",
      "metadata": {
        "id": "diAAFvH_OJi7"
      },
      "source": [
        "from pyspark.sql.functions import avg\n",
        "\n",
        "# Recuperación de la media\n",
        "media_ventas = df.select(avg('Ventas')).collect()[0][0]\n",
        "print(media_ventas)"
      ],
      "execution_count": null,
      "outputs": []
    },
    {
      "cell_type": "code",
      "metadata": {
        "id": "jfsv6Y1yOJi7"
      },
      "source": [
        "# Imputación usando la media\n",
        "df.na.fill(round(media_ventas,2), ['Ventas']).show()"
      ],
      "execution_count": null,
      "outputs": []
    }
  ]
}