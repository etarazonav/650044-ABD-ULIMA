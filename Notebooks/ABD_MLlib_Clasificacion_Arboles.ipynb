{
  "nbformat": 4,
  "nbformat_minor": 0,
  "metadata": {
    "anaconda-cloud": {},
    "colab": {
      "provenance": [],
      "include_colab_link": true
    },
    "kernelspec": {
      "display_name": "Python 3",
      "language": "python",
      "name": "python3"
    },
    "language_info": {
      "codemirror_mode": {
        "name": "ipython",
        "version": 3
      },
      "file_extension": ".py",
      "mimetype": "text/x-python",
      "name": "python",
      "nbconvert_exporter": "python",
      "pygments_lexer": "ipython3",
      "version": "3.8.5"
    }
  },
  "cells": [
    {
      "cell_type": "markdown",
      "metadata": {
        "id": "view-in-github",
        "colab_type": "text"
      },
      "source": [
        "<a href=\"https://colab.research.google.com/github/etarazonav/650044-ABD-ULIMA/blob/main/Notebooks/ABD_MLlib_Clasificacion_Arboles.ipynb\" target=\"_parent\"><img src=\"https://colab.research.google.com/assets/colab-badge.svg\" alt=\"Open In Colab\"/></a>"
      ]
    },
    {
      "cell_type": "markdown",
      "source": [
        "# <img style=\"float: left; padding: 0px 10px 0px 0px;\" src=\"https://upload.wikimedia.org/wikipedia/commons/thumb/a/a0/Universidad_de_Lima_logo.png/220px-Universidad_de_Lima_logo.png\"  width=\"120\" />  MLlib: Clasificación (II)\n",
        "**Profesor:** Enver G. Tarazona Vargas <br>\n",
        "**Curso:** Analítica con Big Data <br>\n",
        "**FACULTAD DE INGENIERÍA - CARRERA DE INGENIERÍA DE SISTEMAS**<br>"
      ],
      "metadata": {
        "id": "-GkeG40PFJUD"
      }
    },
    {
      "cell_type": "markdown",
      "metadata": {
        "id": "KkcNgAPwOVn2"
      },
      "source": [
        "# Ejemplo 2: Árboles de Decisión y Derivados\n",
        "\n",
        "\n",
        "Se utilizará un conjunto de datos para clasificar algunas universidades como privadas o públicas, con base en los siguientes atributos:\n",
        "* Apps: Número de aplicaciones (postulaciones) recibidas\n",
        "* Accept: Número de postulaciones aceptadas\n",
        "* Enroll: Número de alumnos nuevos inscritos\n",
        "* Top10perc: Estudiantes nuevos del 10% superior del colegio\n",
        "* Top25perc: Estudiantes nuevos del 25% superior del colegio\n",
        "* F.Undergrad: Número de estudiantes de pregrado de tiempo completo\n",
        "* P.Undergrad: Número de estudiantes a tiempo parcial\n",
        "* Outstate: Costo de inscripción si no se es del estado\n",
        "* Room.Board: Costos\n",
        "* Books: Costos estimados de libros\n",
        "* Personal: Gasto personal estimado\n",
        "* PhD: Porcentaje de profesores con Ph.D.\n",
        "* Terminal: Porcentaje de profesores con grado terminal\n",
        "* S.F.Ratio: Razón estudiante/profesor\n",
        "* perc.alumni: Porcentaje de ex-alumnos que realizan donaciones\n",
        "* Expend: Gasto institucional por estudiante\n",
        "* Grad.Rate: tasa de graduación"
      ]
    },
    {
      "cell_type": "code",
      "metadata": {
        "id": "BASlgGC5Ohar"
      },
      "source": [
        "# Solo si se usa colab\n",
        "!pip install -q pyspark"
      ],
      "execution_count": null,
      "outputs": []
    },
    {
      "cell_type": "code",
      "metadata": {
        "id": "M7vRwOhHOVn_"
      },
      "source": [
        "from pyspark.sql import SparkSession\n",
        "\n",
        "spark = SparkSession.builder.getOrCreate()"
      ],
      "execution_count": null,
      "outputs": []
    },
    {
      "cell_type": "code",
      "source": [
        "# Carga de archivos\n",
        "!wget -q https://raw.githubusercontent.com/etarazonav/650044-ABD-ULIMA/refs/heads/main/Datos/college.csv"
      ],
      "metadata": {
        "id": "tNRJQciHHjvH"
      },
      "execution_count": null,
      "outputs": []
    },
    {
      "cell_type": "code",
      "metadata": {
        "id": "V7DPVRsSOVoK"
      },
      "source": [
        "# Cargar los datos\n",
        "df = spark.read.csv('college.csv', inferSchema=True, header=True)\n",
        "\n",
        "# Esquema de los datos\n",
        "df.printSchema()"
      ],
      "execution_count": null,
      "outputs": []
    },
    {
      "cell_type": "code",
      "metadata": {
        "id": "hFjTG8yLQ8dQ"
      },
      "source": [
        "# Algunos valores\n",
        "df.show(5)"
      ],
      "execution_count": null,
      "outputs": []
    },
    {
      "cell_type": "markdown",
      "metadata": {
        "id": "OTERO9XPOVoZ"
      },
      "source": [
        "### Pre-procesamiento de Datos"
      ]
    },
    {
      "cell_type": "code",
      "metadata": {
        "id": "AQ9vvBq1OVoa"
      },
      "source": [
        "from pyspark.ml.feature import VectorAssembler\n",
        "\n",
        "# Ver las columnas disponibles\n",
        "#df.columns"
      ],
      "execution_count": null,
      "outputs": []
    },
    {
      "cell_type": "code",
      "metadata": {
        "id": "lW3FrdeKOVog"
      },
      "source": [
        "# Se tomará todas las columnas, excepto las dos primeras\n",
        "assembler = VectorAssembler(inputCols=['Apps', 'Accept', 'Enroll', 'Top10perc', 'Top25perc', 'F_Undergrad',\n",
        "                                       'P_Undergrad', 'Outstate', 'Room_Board', 'Books', 'Personal', 'PhD',\n",
        "                                       'Terminal', 'S_F_Ratio', 'perc_alumni', 'Expend', 'Grad_Rate'],\n",
        "                            outputCol=\"Atributos\")\n",
        "\n",
        "# Transformar los datos\n",
        "df2 = assembler.transform(df)\n",
        "df2.show(5)"
      ],
      "execution_count": null,
      "outputs": []
    },
    {
      "cell_type": "markdown",
      "source": [
        "Creación de la columna que se va a predecir. Se encuentra con valores categóricos, pero se requiere que sea numérica, por lo que se utilizará una indexación."
      ],
      "metadata": {
        "id": "QjQ5_TzR7UtH"
      }
    },
    {
      "cell_type": "code",
      "metadata": {
        "id": "Pp5TMAADOVon"
      },
      "source": [
        "# Convertir la columna objetivo (Private: Yes/No) de categórica a indexada\n",
        "from pyspark.ml.feature import StringIndexer\n",
        "\n",
        "# Objeto que realiza la indización\n",
        "indexer = StringIndexer(inputCol=\"Private\", outputCol=\"Privado\")\n",
        "# Aplicar a los datos\n",
        "df3 = indexer.fit(df2).transform(df2)\n",
        "\n",
        "df3.show(5)"
      ],
      "execution_count": null,
      "outputs": []
    },
    {
      "cell_type": "code",
      "metadata": {
        "id": "Riua13BgOVos"
      },
      "source": [
        "# Escoger las columnas necesarias para PySpark\n",
        "df = df3.select(\"Atributos\", 'Privado')\n",
        "\n",
        "df.show(5)"
      ],
      "execution_count": null,
      "outputs": []
    },
    {
      "cell_type": "code",
      "metadata": {
        "id": "MGU9_pqcRRpU"
      },
      "source": [
        "# Hacer la división en datos de entrenamiento y datos de prueba\n",
        "df_train, df_test = df.randomSplit([0.7,0.3],seed= 666)"
      ],
      "execution_count": null,
      "outputs": []
    },
    {
      "cell_type": "markdown",
      "metadata": {
        "id": "Yl2ByR5UOVoy"
      },
      "source": [
        "### Clasificadores"
      ]
    },
    {
      "cell_type": "code",
      "metadata": {
        "id": "K279StXYOVoz"
      },
      "source": [
        "from pyspark.ml.classification import (DecisionTreeClassifier,\n",
        "                                       GBTClassifier,\n",
        "                                       RandomForestClassifier)\n",
        "from pyspark.ml import Pipeline"
      ],
      "execution_count": null,
      "outputs": []
    },
    {
      "cell_type": "code",
      "metadata": {
        "id": "2-kNxS6FOVo5"
      },
      "source": [
        "# Crear los tres modelos\n",
        "dt = DecisionTreeClassifier(labelCol='Privado',featuresCol='Atributos', predictionCol='Predicción')\n",
        "rf = RandomForestClassifier(labelCol='Privado',featuresCol='Atributos', predictionCol='Predicción' )\n",
        "gb = GBTClassifier(labelCol='Privado',featuresCol='Atributos', predictionCol='Predicción')"
      ],
      "execution_count": null,
      "outputs": []
    },
    {
      "cell_type": "code",
      "metadata": {
        "id": "OvGg1Vz7OVo9"
      },
      "source": [
        "# Entrenar los modelos\n",
        "modelo_DT = dt.fit(df_train)\n",
        "modelo_RF = rf.fit(df_train)\n",
        "modelo_GB = gb.fit(df_train)"
      ],
      "execution_count": null,
      "outputs": []
    },
    {
      "cell_type": "markdown",
      "metadata": {
        "id": "o6khJ2WKOVo_"
      },
      "source": [
        "### Inspección de Modelos"
      ]
    },
    {
      "cell_type": "code",
      "metadata": {
        "id": "_Dx3qDExOVo_"
      },
      "source": [
        "preds_DT = modelo_DT.transform(df_test)\n",
        "\n",
        "#preds_DT.printSchema()\n",
        "preds_DT.select(\"Atributos\", \"Privado\", \"Predicción\").show(5)"
      ],
      "execution_count": null,
      "outputs": []
    },
    {
      "cell_type": "code",
      "metadata": {
        "id": "lPrkN6i_Tgzy"
      },
      "source": [
        "preds_RF = modelo_RF.transform(df_test)\n",
        "\n",
        "preds_RF.select(\"Atributos\", \"Privado\", \"Predicción\").show(5)"
      ],
      "execution_count": null,
      "outputs": []
    },
    {
      "cell_type": "code",
      "metadata": {
        "id": "KkBX5G11Tglj"
      },
      "source": [
        "preds_GB = modelo_GB.transform(df_test)\n",
        "\n",
        "preds_GB.select(\"Atributos\", \"Privado\", \"Predicción\").show(5)"
      ],
      "execution_count": null,
      "outputs": []
    },
    {
      "cell_type": "markdown",
      "metadata": {
        "id": "0Hkv2IICOVpB"
      },
      "source": [
        "### Métricas de Evaluación"
      ]
    },
    {
      "cell_type": "code",
      "metadata": {
        "id": "y4SvrQaQOVpC"
      },
      "source": [
        "from pyspark.ml.evaluation import (BinaryClassificationEvaluator,\n",
        "                                   MulticlassClassificationEvaluator)\n",
        "\n",
        "# Evaluador: usando \"exactitud\"\n",
        "evaluadorEX = MulticlassClassificationEvaluator(labelCol=\"Privado\",\n",
        "                                                predictionCol=\"Predicción\",\n",
        "                                                metricName='accuracy')\n",
        "\n",
        "# Evaluador: usando AUC\n",
        "evaluadorAUC = BinaryClassificationEvaluator(labelCol=\"Privado\",\n",
        "                                             rawPredictionCol=\"Predicción\",\n",
        "                                             metricName=\"areaUnderROC\")"
      ],
      "execution_count": null,
      "outputs": []
    },
    {
      "cell_type": "code",
      "metadata": {
        "id": "g2KIVLSkOVpF"
      },
      "source": [
        "# Mëtricas con árboles de decisión\n",
        "exactitud_dt = evaluadorEX.evaluate(preds_DT)\n",
        "auc_dt = evaluadorAUC.evaluate(preds_DT)\n",
        "\n",
        "print(\"Usando Árboles de decisión: exactitud={}, AUC={:.3f}\".format(exactitud_dt, auc_dt))"
      ],
      "execution_count": null,
      "outputs": []
    },
    {
      "cell_type": "code",
      "metadata": {
        "id": "ef1_hjM6OVpH"
      },
      "source": [
        "# Mëtricas con random forest\n",
        "exactitud_rf = evaluadorEX.evaluate(preds_RF)\n",
        "auc_rf = evaluadorAUC.evaluate(preds_RF)\n",
        "\n",
        "print(\"Usando Random Forest: exactitud={:3f}, AUC={:.3f}\".format(exactitud_rf, auc_rf))"
      ],
      "execution_count": null,
      "outputs": []
    },
    {
      "cell_type": "code",
      "metadata": {
        "id": "nlCYNQnMXFaG"
      },
      "source": [
        "# Mëtricas con gradient boosting\n",
        "exactitud_gb = evaluadorEX.evaluate(preds_GB)\n",
        "auc_gb = evaluadorAUC.evaluate(preds_GB)\n",
        "\n",
        "print(\"Usando Gradient Boosting: exactitud={:3f}, AUC={:.3f}\".format(exactitud_gb, auc_gb))"
      ],
      "execution_count": null,
      "outputs": []
    },
    {
      "cell_type": "code",
      "metadata": {
        "id": "jU02BJoFRiSa"
      },
      "source": [
        "modelo_RF.featureImportances"
      ],
      "execution_count": null,
      "outputs": []
    },
    {
      "cell_type": "code",
      "metadata": {
        "id": "wTi-9YBMmBXq"
      },
      "source": [
        "modelo_GB.featureImportances"
      ],
      "execution_count": null,
      "outputs": []
    },
    {
      "cell_type": "code",
      "metadata": {
        "id": "jrdI5JlnmC-4"
      },
      "source": [
        "modelo_DT.featureImportances"
      ],
      "execution_count": null,
      "outputs": []
    },
    {
      "cell_type": "code",
      "metadata": {
        "id": "wZadCekImQ2_"
      },
      "source": [],
      "execution_count": null,
      "outputs": []
    }
  ]
}