{
  "cells": [
    {
      "cell_type": "markdown",
      "metadata": {
        "id": "view-in-github",
        "colab_type": "text"
      },
      "source": [
        "<a href=\"https://colab.research.google.com/github/etarazonav/650044-ABD-ULIMA/blob/main/Notebooks/ABB_SparkSQL1_Aspectos_basicos_DataFrames.ipynb\" target=\"_parent\"><img src=\"https://colab.research.google.com/assets/colab-badge.svg\" alt=\"Open In Colab\"/></a>"
      ]
    },
    {
      "cell_type": "markdown",
      "source": [
        "# <img style=\"float: left; padding: 0px 10px 0px 0px;\" src=\"https://upload.wikimedia.org/wikipedia/commons/thumb/a/a0/Universidad_de_Lima_logo.png/220px-Universidad_de_Lima_logo.png\"  width=\"120\" /> Parte 1: Aspectos Básicos de DataFrames en SparkSQL\n",
        "**Profesor:** Enver G. Tarazona Vargas <br>\n",
        "**Curso:** Analítica con Big Data <br>\n",
        "**FACULTAD DE INGENIERÍA - CARRERA DE INGENIERÍA DE SISTEMAS**<br>\n"
      ],
      "metadata": {
        "id": "opOTYvEVHrCc"
      }
    },
    {
      "cell_type": "markdown",
      "metadata": {
        "id": "QfxvLhWnksq_"
      },
      "source": [
        "Documentación oficial de SparkSQL:\n",
        "* https://spark.apache.org/docs/latest/sql-ref.html\n",
        "* https://spark.apache.org/docs/latest/api/python/reference/pyspark.sql/index.html\n",
        "* https://spark.apache.org/docs/latest/api/python/index.html"
      ]
    },
    {
      "cell_type": "code",
      "execution_count": null,
      "metadata": {
        "id": "P0MOm-vhEvUA"
      },
      "outputs": [],
      "source": [
        "# Instalación de PySpark (si se está usando Google Colab, por ejemplo)\n",
        "!pip install -q pyspark"
      ]
    },
    {
      "cell_type": "markdown",
      "metadata": {
        "id": "Ii9X8de1X3U_"
      },
      "source": [
        "**Creación de una sesión de Spark SQL**\n",
        "\n",
        "Las aplicaciones de PySpark inician con una sesión de Spark llamada `SparkSession`, que es el punto de entrada a PySpark. Si Spark se corre en un shell (ejecutando: `pyspark`), no es necesario crear esta sesión de Spark dado que el shell crea la variable `spark` automáticamente. Si se corre un programa con `spark-submit` o si se tiene algún otro entorno (como Google Colab) sí es necesario iniciar la variable como se indica a continuación."
      ]
    },
    {
      "cell_type": "code",
      "execution_count": null,
      "metadata": {
        "id": "mNOSiTaOEuCF"
      },
      "outputs": [],
      "source": [
        "from pyspark.sql import SparkSession\n",
        "\n",
        "spark = SparkSession.builder.getOrCreate()"
      ]
    },
    {
      "cell_type": "markdown",
      "metadata": {
        "id": "wtPuLGzMmY9T"
      },
      "source": [
        "Si se desea especificar el nombre de la aplicación, se puede realizar añadiendo `appName`. Por ejemplo, si se desea el nombre `Aplicacion1`, se utiliza: `spark = SparkSession.builder.appName('Aplicacion1').getOrCreate()`"
      ]
    },
    {
      "cell_type": "code",
      "execution_count": null,
      "metadata": {
        "id": "6R2BKpusE7X7"
      },
      "outputs": [],
      "source": [
        "type(spark)"
      ]
    },
    {
      "cell_type": "markdown",
      "metadata": {
        "id": "kd6nJ9hUYyRx"
      },
      "source": [
        "## 1.&nbsp;Creación de un Data Frame\n",
        "\n",
        "Un DataFrame de PySpark se puede crear usando `spark.createDataFrame`, que utiliza un argumento llamado `schema` para especificar el esquema del DataFrame. Si se omite el esquema, PySpark lo infiere a partir de una muestra de los datos utilizados.\n",
        "\n",
        "Se puede crear DataFrames de varias maneras, como se muestra a continuación."
      ]
    },
    {
      "cell_type": "markdown",
      "metadata": {
        "id": "QCELWNp3FBvU"
      },
      "source": [
        "### 1.1. Creación por filas"
      ]
    },
    {
      "cell_type": "code",
      "execution_count": null,
      "metadata": {
        "id": "7rMq5XAy_yUA"
      },
      "outputs": [],
      "source": [
        "from pyspark.sql import Row\n",
        "from datetime import datetime, date"
      ]
    },
    {
      "cell_type": "markdown",
      "metadata": {
        "id": "Q9tIvH9uBuut"
      },
      "source": [
        "Creación usando `Row`, que especifica el esquema en cada fila. Notar que cada fila se trata como si fuera una tupla con nombre."
      ]
    },
    {
      "cell_type": "code",
      "execution_count": null,
      "metadata": {
        "id": "WYuH7YslBo9Q"
      },
      "outputs": [],
      "source": [
        "df = spark.createDataFrame([\n",
        "    Row(ID=1, Valor=2., Nombre='Carlos', Fecha=date(2000, 1, 1), Hora=datetime(2000, 1, 1, 12, 0)),\n",
        "    Row(ID=2, Valor=3., Nombre='María',  Fecha=date(2000, 2, 1), Hora=datetime(2000, 1, 2, 12, 0)),\n",
        "    Row(ID=4, Valor=5., Nombre='Pedro',  Fecha=date(2000, 3, 1), Hora=datetime(2000, 1, 3, 12, 0))\n",
        "])\n",
        "\n",
        "# Mostrar el DataFrame\n",
        "df.show()"
      ]
    },
    {
      "cell_type": "code",
      "execution_count": null,
      "metadata": {
        "id": "uMXRmjE8C_dC"
      },
      "outputs": [],
      "source": [
        "# Mostrar el esquema del DataFrame\n",
        "df.printSchema()"
      ]
    },
    {
      "cell_type": "markdown",
      "metadata": {
        "id": "eXu81FSYB3Xu"
      },
      "source": [
        "Creación usando tuplas y especificando el esquema de manera explícita (con el tipo de dato)."
      ]
    },
    {
      "cell_type": "code",
      "execution_count": null,
      "metadata": {
        "id": "P5WWQdD5BozC"
      },
      "outputs": [],
      "source": [
        "df = spark.createDataFrame([\n",
        "    (1, 2., 'Carlos', date(2000, 1, 1), datetime(2000, 1, 1, 12, 0)),\n",
        "    (2, 3., 'María',  date(2000, 2, 1), datetime(2000, 1, 2, 12, 0)),\n",
        "    (4, 5., 'Pedro',  date(2000, 3, 1), datetime(2000, 1, 3, 12, 0))\n",
        "], schema='ID long, Valor double, Nombre string, Fecha date, Hora timestamp')\n",
        "\n",
        "df.show()"
      ]
    },
    {
      "cell_type": "markdown",
      "metadata": {
        "id": "2paPm27UDila"
      },
      "source": [
        "### 1.2. Creación usando un DataFrame de Pandas\n",
        "\n",
        "Documentación del DataFrame de Pandas: https://pandas.pydata.org/docs/reference/api/pandas.DataFrame.html"
      ]
    },
    {
      "cell_type": "code",
      "execution_count": null,
      "metadata": {
        "id": "Ko8jcCnz_yRG"
      },
      "outputs": [],
      "source": [
        "import pandas as pd"
      ]
    },
    {
      "cell_type": "code",
      "execution_count": null,
      "metadata": {
        "id": "a1ucpJ14_yPB"
      },
      "outputs": [],
      "source": [
        "# Creación del DataFrame de Pandas\n",
        "pandas_df = pd.DataFrame({\n",
        "    'ID': [1, 2, 3],\n",
        "    'Valor': [2., 3., 4.],\n",
        "    'Nombre': ['Carlos', 'María', 'Pedro'],\n",
        "    'Fecha': [date(2000, 1, 1), date(2000, 2, 1), date(2000, 3, 1)],\n",
        "    'Hora': [datetime(2000, 1, 1, 12, 0), datetime(2000, 1, 2, 12, 0), datetime(2000, 1, 3, 12, 0)]\n",
        "})\n",
        "\n",
        "# Creación del DataFrame de Spark a partir del DataFrame de Pandas\n",
        "df = spark.createDataFrame(pandas_df)\n",
        "\n",
        "# Mostrar el DataFrame\n",
        "df.show()"
      ]
    },
    {
      "cell_type": "markdown",
      "metadata": {
        "id": "q9kwzRYNnfNO"
      },
      "source": [
        "### 1.3. Creación a partir de un RDD"
      ]
    },
    {
      "cell_type": "markdown",
      "metadata": {
        "id": "dfkKaGMBrHkA"
      },
      "source": [
        "Si el RDD no tiene esquema, se le tiene que asignar al momento de crear el DataFrame usando `schema`, donde se incluye el nombre del campo y el tipo de dato (string, int, long, double, date, timestamp)"
      ]
    },
    {
      "cell_type": "code",
      "execution_count": null,
      "metadata": {
        "id": "7RpA1XDFnfnk"
      },
      "outputs": [],
      "source": [
        "sc = spark.sparkContext\n",
        "\n",
        "# Creación de un RDD\n",
        "rdd = sc.parallelize([(\"Juan\", 20), (\"María\", 25), (\"Victoria\", 22)])\n",
        "\n",
        "# Creación de DataFrame a partir del RDD\n",
        "df = spark.createDataFrame(rdd,\n",
        "                           schema='nombre string,edad int')\n",
        "df.show()"
      ]
    },
    {
      "cell_type": "markdown",
      "metadata": {
        "id": "JZqk3x34rEGf"
      },
      "source": [
        "Se le puede asignar esquema al RDD definiendo cada elemento como una fila `Row`, que es similar a una tupla con nombre."
      ]
    },
    {
      "cell_type": "code",
      "execution_count": null,
      "metadata": {
        "id": "Y1LsAFtgqdjY"
      },
      "outputs": [],
      "source": [
        "from pyspark.sql import Row\n",
        "\n",
        "rdd = sc.parallelize([Row(nombre=\"Juan\", edad=20),\n",
        "                      Row(nombre=\"Kiara\", edad=19),\n",
        "                      Row(nombre=\"Keiko\", edad=80)])\n",
        "\n",
        "df = spark.createDataFrame(rdd)\n",
        "df.show()"
      ]
    },
    {
      "cell_type": "markdown",
      "metadata": {
        "id": "qTFlDcYsFK9i"
      },
      "source": [
        "## 2.&nbsp;Carga de Datos a un DataFrame\n",
        "\n",
        "Para más información sobre los formatos mencionados aquí, u otros formatos, consultar estas referencias:\n",
        "* https://spark.apache.org/docs/latest/sql-data-sources.html\n",
        "* https://github.com/apache/spark/blob/master/examples/src/main/python/sql/datasource.py"
      ]
    },
    {
      "cell_type": "markdown",
      "source": [
        "Por facilidad se cargará archivos del repositorio usando `wget`. Estos archivos (o carpetas) también pueden ser subidos manualmente a Google Colab. En caso de estar trabajando en un clúster con HDFS, estos archivos deberían estar en el clúster."
      ],
      "metadata": {
        "id": "EUpXPARQg6E-"
      }
    },
    {
      "cell_type": "code",
      "source": [
        "!wget -q https://raw.githubusercontent.com/etarazonav/650044-ABD-ULIMA/refs/heads/main/Datos/personas.csv\n",
        "!wget -q https://raw.githubusercontent.com/etarazonav/650044-ABD-ULIMA/refs/heads/main/Datos/recursos.zip\n",
        "!unzip -q recursos.zip\n",
        "!wget -q https://raw.githubusercontent.com/etarazonav/650044-ABD-ULIMA/refs/heads/main/Datos/texto-personas.txt\n",
        "!wget -q https://raw.githubusercontent.com/etarazonav/650044-ABD-ULIMA/refs/heads/main/Datos/personas.json\n",
        "!wget -q https://raw.githubusercontent.com/etarazonav/650044-ABD-ULIMA/refs/heads/main/Datos/personas.parquet\n"
      ],
      "metadata": {
        "id": "NA8UQ79Mg0r7"
      },
      "execution_count": null,
      "outputs": []
    },
    {
      "cell_type": "markdown",
      "source": [],
      "metadata": {
        "id": "lB8bwN-ssokh"
      }
    },
    {
      "cell_type": "markdown",
      "metadata": {
        "id": "jz6KyToAJRug"
      },
      "source": [
        "### 2.1. Lectura de CSV\n",
        "\n",
        "Más información: https://spark.apache.org/docs/latest/sql-data-sources-csv.html\n",
        "\n",
        "Lectura directa sin especificar la estructura. Por defecto asume que el separador es una coma `,`. En este ejemplo el delimitador es `;`, así que al leer no se separa las columnas sino se lee como una sola columna (con nombre `_c0` por defecto)"
      ]
    },
    {
      "cell_type": "code",
      "execution_count": null,
      "metadata": {
        "id": "J0JJfNMdJRZU"
      },
      "outputs": [],
      "source": [
        "df = spark.read.csv(\"personas.csv\")\n",
        "df.show()"
      ]
    },
    {
      "cell_type": "markdown",
      "metadata": {
        "id": "HRNRK1UPKSGb"
      },
      "source": [
        "Lectura especificando un delimitador. En este ejemplo, el delimitador es `;`. Los nombres de las columnas se asignan por defecto como `_c0`, `_c1`, `_c2`."
      ]
    },
    {
      "cell_type": "code",
      "execution_count": null,
      "metadata": {
        "id": "U9_CKcJkKR5n"
      },
      "outputs": [],
      "source": [
        "df = spark.read.option(\"delimiter\", \";\").csv(\"personas.csv\")\n",
        "df.show()"
      ]
    },
    {
      "cell_type": "markdown",
      "metadata": {
        "id": "YV_VfYNOLMbx"
      },
      "source": [
        "Lectura especificando un delimitador y un encabezado (primera fila del CSV)."
      ]
    },
    {
      "cell_type": "code",
      "execution_count": null,
      "metadata": {
        "id": "4wiE2kyIKR2O"
      },
      "outputs": [],
      "source": [
        "df = spark.read.options(delimiter=\";\", header=True).csv(\"personas.csv\")\n",
        "\n",
        "# También se podría especificar cada opción por separado:\n",
        "# df = spark.read.option(\"delimiter\", \";\").option(\"header\", True).csv(\"personas.csv\")\n",
        "\n",
        "df.show()"
      ]
    },
    {
      "cell_type": "code",
      "execution_count": null,
      "metadata": {
        "id": "1wjwtHbVQX8A"
      },
      "outputs": [],
      "source": [
        "# Otra alternativa de lectura es la siguiente:\n",
        "df = spark.read.load(\"personas.csv\",\n",
        "                     format=\"csv\", sep=\";\",\n",
        "                     inferSchema=\"true\", header=\"true\")\n",
        "\n",
        "df.show()"
      ]
    },
    {
      "cell_type": "markdown",
      "metadata": {
        "id": "Hddsj4hQJRMv"
      },
      "source": [
        "Lectura de varios archivos CSV en una carpeta. Se debe asegurar de que solo existan archivos CSV en la carpeta y que el formato sea similar, para que puedan ser leidos y cargados adecuadamente."
      ]
    },
    {
      "cell_type": "code",
      "execution_count": null,
      "metadata": {
        "id": "3-L6v76lJjwx"
      },
      "outputs": [],
      "source": [
        "# Nombre de la carpeta donde se encuentran varios CSV con similar estructura\n",
        "carpetaDatos = \"recursos\"\n",
        "\n",
        "# Lectura de varios csv en un solo DataFrame especificando la carpeta\n",
        "df = spark.read.option(\"delimiter\", \";\").option(\"header\", True).csv(\"recursos\")\n",
        "df.show()"
      ]
    },
    {
      "cell_type": "markdown",
      "metadata": {
        "id": "QCAXxsQTOzow"
      },
      "source": [
        "### 2.2. Lectura de TXT\n",
        "\n",
        "Más información: https://spark.apache.org/docs/latest/sql-data-sources-text.html"
      ]
    },
    {
      "cell_type": "code",
      "execution_count": null,
      "metadata": {
        "id": "nbfxASdbRvdi"
      },
      "outputs": [],
      "source": [
        "df = spark.read.text(\"texto-personas.txt\")\n",
        "df.show()"
      ]
    },
    {
      "cell_type": "markdown",
      "metadata": {
        "id": "PrdvLsWlSRgO"
      },
      "source": [
        "Se puede indicar el separador de línea (fila) usando la opción `lineSep`. Por defecto se asume `\\n`, `\\r\\n` o `\\r`. Para el siguiente ejemplo se\n",
        "forzará el uso de la `,` como si fuera un separador de línea."
      ]
    },
    {
      "cell_type": "code",
      "execution_count": null,
      "metadata": {
        "id": "3JRqLKtNSLm1"
      },
      "outputs": [],
      "source": [
        "df = spark.read.text(\"texto-personas.txt\", lineSep=\",\")\n",
        "df.show()"
      ]
    },
    {
      "cell_type": "markdown",
      "metadata": {
        "id": "hhyO14B3TlMj"
      },
      "source": [
        "### 2.3. Lectura de JSON\n",
        "\n",
        "Más información: https://spark.apache.org/docs/latest/sql-data-sources-json.html\n",
        "\n",
        "Notar que el archivo JSON no es un típico JSON, sino que cada línea debe contener un objeto JSON válido, separado y auto contenido. A este formato se le suele llamar \"JSON Lines text format\" o \"newline-delimited JSON\" (https://jsonlines.org/)."
      ]
    },
    {
      "cell_type": "code",
      "execution_count": null,
      "metadata": {
        "id": "wjxNMXxZTCyX"
      },
      "outputs": [],
      "source": [
        "df = spark.read.json(\"personas.json\")\n",
        "\n",
        "df.show()"
      ]
    },
    {
      "cell_type": "code",
      "execution_count": null,
      "metadata": {
        "id": "M_yFhFuFXxYL"
      },
      "outputs": [],
      "source": [
        "# Esquema inferido\n",
        "df.printSchema()"
      ]
    },
    {
      "cell_type": "markdown",
      "metadata": {
        "id": "_hBoN6EbX_ZH"
      },
      "source": [
        "De manera alternativa, se puede crear un DataFrame utilizando un RDD que contiene objetos JSON como cadenas de caracteres."
      ]
    },
    {
      "cell_type": "code",
      "execution_count": null,
      "metadata": {
        "id": "HQs9_7c5TCvB"
      },
      "outputs": [],
      "source": [
        "datos = ['{\"nombre\":\"Juan\",\"direccion\":{\"ciudad\":\"Lima\",\"distrito\":\"Miraflores\"}}',\n",
        "         '{\"nombre\":\"Camila\",\"direccion\":{\"ciudad\":\"Arequipa\",\"distrito\":\"Cercado\"}}']\n",
        "\n",
        "sc = spark.sparkContext\n",
        "rdd = sc.parallelize(datos)\n",
        "rdd.collect()"
      ]
    },
    {
      "cell_type": "code",
      "execution_count": null,
      "metadata": {
        "id": "vCLVkCxATCsX"
      },
      "outputs": [],
      "source": [
        "df = spark.read.json(rdd)\n",
        "df.show()"
      ]
    },
    {
      "cell_type": "markdown",
      "metadata": {
        "id": "YdT42KvIayBv"
      },
      "source": [
        "### 2.4. Lectura de Parquet\n",
        "\n",
        "Más información: https://spark.apache.org/docs/latest/sql-data-sources-parquet.html\n",
        "\n",
        "Parquet es un formato columnar soportado por muchos sistemas de procesamiento y análisis de datos para Big Data. Spark SQL al leer archivos Parquet preserva el esquema de los datos originales."
      ]
    },
    {
      "cell_type": "code",
      "execution_count": null,
      "metadata": {
        "id": "8vcLLkAeTCpt"
      },
      "outputs": [],
      "source": [
        "df = spark.read.load(\"personas.parquet\")\n",
        "\n",
        "df.show()"
      ]
    },
    {
      "cell_type": "markdown",
      "metadata": {
        "id": "O5OgfoVPGWb3"
      },
      "source": [
        "## 3.&nbsp;Visualización de Datos"
      ]
    },
    {
      "cell_type": "code",
      "execution_count": null,
      "metadata": {
        "id": "W81qFnM8i2DE"
      },
      "outputs": [],
      "source": [
        "# Lectura de un dataframe de un conjunto de CSVs\n",
        "df = spark.read.load(\"recursos\", format=\"csv\", sep=\";\",\n",
        "                     inferSchema=\"true\", header=\"true\")"
      ]
    },
    {
      "cell_type": "markdown",
      "metadata": {
        "id": "C7ZHxhdKi2tm"
      },
      "source": [
        "Si se desea visualizar el contenido del dataframe escribiendo únicamente el nombre del DataFrame (en un cuaderno de Jupyter) se puede activar la opción `spark.sql.repl.eagerEval.enabled`. Para todo lo demás, no es necesario activar esta opción."
      ]
    },
    {
      "cell_type": "code",
      "execution_count": null,
      "metadata": {
        "id": "21Fgoa7T_yBT"
      },
      "outputs": [],
      "source": [
        "spark.conf.set('spark.sql.repl.eagerEval.enabled', True)"
      ]
    },
    {
      "cell_type": "markdown",
      "metadata": {
        "id": "lEnlJV4RlnUn"
      },
      "source": [
        "**Visualización del DataFrame**"
      ]
    },
    {
      "cell_type": "code",
      "execution_count": null,
      "metadata": {
        "id": "rJQ2SgBjiFek"
      },
      "outputs": [],
      "source": [
        "# Si se activa la opción anterior, se puede usar el nombre del dataframe solito\n",
        "df"
      ]
    },
    {
      "cell_type": "markdown",
      "metadata": {
        "id": "_lj-Gup7jWmn"
      },
      "source": [
        "Visualización de una determinada cantidad de filas usando `show(N)`, donde `N` es el número de filas. Si no se especifica, por defecto muestra las 20 primeras filas."
      ]
    },
    {
      "cell_type": "code",
      "execution_count": null,
      "metadata": {
        "id": "Cjow8FJJhUGA"
      },
      "outputs": [],
      "source": [
        "df.show(5)"
      ]
    },
    {
      "cell_type": "markdown",
      "metadata": {
        "id": "zCPgh_sXj6Ri"
      },
      "source": [
        "Las filas pueden ser mostradas de manera vertical con la opción `vertical`. Esta forma de visualizar suele ser útil cuando las filas son muy largas para ser mostradas horizontalmente."
      ]
    },
    {
      "cell_type": "code",
      "execution_count": null,
      "metadata": {
        "id": "x3mMJ37uj631"
      },
      "outputs": [],
      "source": [
        "df.show(2, vertical=True)"
      ]
    },
    {
      "cell_type": "markdown",
      "metadata": {
        "id": "qhkTU-eCjohP"
      },
      "source": [
        "**Esquema del DataFrame**\n",
        "\n",
        "Se puede visualizar el nombre de las columnas y la estructura de la tabla usando `columns` y `printSchema`."
      ]
    },
    {
      "cell_type": "code",
      "execution_count": null,
      "metadata": {
        "id": "s_lhEEjFjzCP"
      },
      "outputs": [],
      "source": [
        "# Nombres de columnas\n",
        "df.columns"
      ]
    },
    {
      "cell_type": "code",
      "execution_count": null,
      "metadata": {
        "id": "HRuwICtSEuCM"
      },
      "outputs": [],
      "source": [
        "# Mostrar esquema\n",
        "df.printSchema()"
      ]
    },
    {
      "cell_type": "markdown",
      "metadata": {
        "id": "25dA8Q3MkcLa"
      },
      "source": [
        "**Resumen de los datos**"
      ]
    },
    {
      "cell_type": "code",
      "execution_count": null,
      "metadata": {
        "id": "hNfx6YsSEuCN"
      },
      "outputs": [],
      "source": [
        "df.describe().show()"
      ]
    },
    {
      "cell_type": "markdown",
      "metadata": {
        "id": "WSjdtEG8Z2UB"
      },
      "source": [
        "## 4.&nbsp;Selección y acceso a los datos"
      ]
    },
    {
      "cell_type": "markdown",
      "metadata": {
        "id": "UmQiPV_d0MCp"
      },
      "source": [
        "Los DataFrames se evalúan de manera ociosa (\"lazy\") y cuando se selecciona una columna no se realiza el cálculo sino que solo se retorna una instancia de tipo `Column`.\n"
      ]
    },
    {
      "cell_type": "code",
      "execution_count": null,
      "metadata": {
        "id": "D7Cf-nU40iX1"
      },
      "outputs": [],
      "source": [
        "df.nombre"
      ]
    },
    {
      "cell_type": "markdown",
      "metadata": {
        "id": "0frA8i1o7hi9"
      },
      "source": [
        "### 4.1. Selección de columnas\n",
        "\n",
        "Para el acceso a una columna o varias columnas se utiliza `DataFrame.select()`."
      ]
    },
    {
      "cell_type": "code",
      "execution_count": null,
      "metadata": {
        "id": "Xsb-0P3BEuCN"
      },
      "outputs": [],
      "source": [
        "df.select('edad').show(3)"
      ]
    },
    {
      "cell_type": "code",
      "execution_count": null,
      "metadata": {
        "id": "_EIpOA9u0VMe"
      },
      "outputs": [],
      "source": [
        "df.select(['nombre', 'edad']).show(3)"
      ]
    },
    {
      "cell_type": "code",
      "execution_count": null,
      "metadata": {
        "id": "no410D_4wsFj"
      },
      "outputs": [],
      "source": [
        "df.select(\"nombre\", \"trabajo\").show(3)"
      ]
    },
    {
      "cell_type": "markdown",
      "metadata": {
        "id": "2PzB5PJ149gW"
      },
      "source": [
        "### 4.2. Recolección de datos\n",
        "\n",
        "`DataFrame.collect()` recolecta los datos distribuidos y los envía al driver como datos locales en Python. Esto puede generar errores de falta de memoria cuando el dataset es muy grande para caber en el driver, ya que se recolecta todos los datos de los ejecutores hacia el driver."
      ]
    },
    {
      "cell_type": "code",
      "execution_count": null,
      "metadata": {
        "id": "CCDv1FhO5CX_"
      },
      "outputs": [],
      "source": [
        "df.collect()"
      ]
    },
    {
      "cell_type": "markdown",
      "metadata": {
        "id": "LbatpzeH5J4a"
      },
      "source": [
        "Para evitar la excepción de falta de memoria, se puede usar `DataFrame.take(N)`, `DataFrame.head(N)` o `DataFrame.tail(N)`, donde `N` es el número de filas."
      ]
    },
    {
      "cell_type": "code",
      "execution_count": null,
      "metadata": {
        "id": "Vl2Ws7jz5Koe"
      },
      "outputs": [],
      "source": [
        "df.take(3)"
      ]
    },
    {
      "cell_type": "code",
      "execution_count": null,
      "metadata": {
        "id": "89ewNbet5OR-"
      },
      "outputs": [],
      "source": [
        "df.head(3)"
      ]
    },
    {
      "cell_type": "code",
      "execution_count": null,
      "metadata": {
        "id": "3WVV36uQ5OIm"
      },
      "outputs": [],
      "source": [
        "df.tail(3)"
      ]
    },
    {
      "cell_type": "markdown",
      "metadata": {
        "id": "fUjCWO_551UH"
      },
      "source": [
        "La extracción de datos para procesarlos \"manualmente\" se puede realizar extrayendo las filas `Row` a través de índices."
      ]
    },
    {
      "cell_type": "code",
      "execution_count": null,
      "metadata": {
        "id": "5nv9dbezEuCO"
      },
      "outputs": [],
      "source": [
        "# Extraccion de filas\n",
        "df.head(2)[1]"
      ]
    },
    {
      "cell_type": "code",
      "execution_count": null,
      "metadata": {
        "id": "0uAQDD0oFt8d"
      },
      "outputs": [],
      "source": [
        "# Recuperación de valores\n",
        "dato = df.head(2)[1]\n",
        "dato.edad     # Equivalente a dato[0]"
      ]
    },
    {
      "cell_type": "code",
      "execution_count": null,
      "metadata": {
        "id": "cnyHQ4M2V3k0"
      },
      "outputs": [],
      "source": [
        "# Se puede convertir el dato en un diccionario\n",
        "dato = df.head(2)[1].asDict()\n",
        "print(dato)"
      ]
    },
    {
      "cell_type": "markdown",
      "metadata": {
        "id": "h06aXdQa7crF"
      },
      "source": [
        "### 4.3. Creación de nuevas columnas\n",
        "\n",
        "Para crear una nueva columna se utiliza `withColumn`. Notar que el DataFrame es inmutable: si se desea almacenar el resultado se debe crear un nuevo DataFrame."
      ]
    },
    {
      "cell_type": "code",
      "execution_count": null,
      "metadata": {
        "id": "AeWWF9-a8W3J"
      },
      "outputs": [],
      "source": [
        "# Crear una nueva columna de año de nacimiento (asumiendo que es el año 2023)\n",
        "df2 = df.withColumn('año nacimiento', 2023-df['edad'])\n",
        "\n",
        "df2.show(3)"
      ]
    },
    {
      "cell_type": "code",
      "execution_count": null,
      "metadata": {
        "id": "WiG4Kb6p7Z1L"
      },
      "outputs": [],
      "source": [
        "from pyspark.sql.functions import upper\n",
        "\n",
        "# Crear una nueva columna con la columna \"nombre\" en mayúsculas\n",
        "df.withColumn('nombre_may', upper(df['nombre'])).show(3)"
      ]
    },
    {
      "cell_type": "markdown",
      "metadata": {
        "id": "1qr1_4il-hvd"
      },
      "source": [
        "Se puede cambiar el nombre de una columna utilizando `withColumnRenamed`. Notar que para almacenar el nombre cambiado se debe crear un nuevo DataFrame."
      ]
    },
    {
      "cell_type": "code",
      "execution_count": null,
      "metadata": {
        "id": "U_IRoqZN7aVm"
      },
      "outputs": [],
      "source": [
        "# Cambiar nombre a una columna\n",
        "df2 = df.withColumnRenamed('edad', 'años')\n",
        "\n",
        "df2.show(3)"
      ]
    },
    {
      "cell_type": "markdown",
      "metadata": {
        "id": "ANFfwfcoalJm"
      },
      "source": [
        "## 5.&nbsp;Modificación del esquema\n",
        "\n",
        "Si Spark no infiere adecuadamente los datos, o si se desea modificar el tipo de dato de las columnas, se puede crear un nuevo esquema especificando los tipos de datos.\n",
        "\n",
        "Se puede ver los tipos de datos existentes en: https://spark.apache.org/docs/latest/sql-ref-datatypes.html"
      ]
    },
    {
      "cell_type": "code",
      "execution_count": null,
      "metadata": {
        "id": "LquLA4Z-A0wD"
      },
      "outputs": [],
      "source": [
        "from pyspark.sql.types import StructField, StructType\n",
        "\n",
        "# Importar los tipos de datos que se va a utilizar\n",
        "from pyspark.sql.types import StringType, FloatType"
      ]
    },
    {
      "cell_type": "markdown",
      "metadata": {
        "id": "vxtHYNQ5CXJI"
      },
      "source": [
        "En este ejemplo se intenta modificar lo siguiente:\n",
        "* `edad` con tipo float\n",
        "* cambiar el nombre del tercer campo de \"trabajo\" a \"ocupación\""
      ]
    },
    {
      "cell_type": "code",
      "execution_count": null,
      "metadata": {
        "id": "KySO8n6xar1s"
      },
      "outputs": [],
      "source": [
        "# Creación del nuevo esquema\n",
        "campos = [StructField('nombre', StringType(), True),\n",
        "          StructField('edad', FloatType(), True),\n",
        "          StructField('ocupación', StringType(), True),\n",
        "         ]\n",
        "esquema2 = StructType(fields = campos)"
      ]
    },
    {
      "cell_type": "code",
      "execution_count": null,
      "metadata": {
        "id": "KgrZJEs8EuCO"
      },
      "outputs": [],
      "source": [
        "# Lectura de los datos asignando el nuevo esquema\n",
        "df2 = spark.read.load(\"recursos\", format=\"csv\", sep=\";\",\n",
        "                     schema=esquema2, header=\"true\")\n",
        "\n",
        "# Mostrar el nuevo esquema\n",
        "df2.printSchema()"
      ]
    },
    {
      "cell_type": "code",
      "execution_count": null,
      "metadata": {
        "id": "n9mjKcJGCsp7"
      },
      "outputs": [],
      "source": [
        "df2.show(3)"
      ]
    },
    {
      "cell_type": "markdown",
      "metadata": {
        "id": "GBC7HBXZC2y0"
      },
      "source": [
        "## 6.&nbsp;Almacenamiento del DataFrame"
      ]
    },
    {
      "cell_type": "markdown",
      "metadata": {
        "id": "ZZT7cDoWECyR"
      },
      "source": [
        "### 6.1. Conversión a DataFrame de Pandas\n",
        "\n",
        "Un DataFrame de Spark puede convertirse a un DataFrame de Pandas, para poder utilizar el API de pandas (y eventualmente poder hacer figuras y demás). Notar que `toPandas` recolecta todos los datos al driver, de tal modo que puede fácilmente causar errores de tamaño de memoria en el driver cuando se tiene muchos datos."
      ]
    },
    {
      "cell_type": "code",
      "execution_count": null,
      "metadata": {
        "id": "sRkrNWjdDZR2"
      },
      "outputs": [],
      "source": [
        "df_pandas = df.toPandas()"
      ]
    },
    {
      "cell_type": "code",
      "execution_count": null,
      "metadata": {
        "id": "iJgVFmAjDzoi"
      },
      "outputs": [],
      "source": [
        "df_pandas.head(3)"
      ]
    },
    {
      "cell_type": "markdown",
      "metadata": {
        "id": "11FoJyRYEkzI"
      },
      "source": [
        "### 6.2. Almacenamiento en disco\n",
        "\n",
        "Al almacenar como CSV se puede especificar las mismas opciones que para lectura (por ejemplo, `header`). Se asigna el nombre de una carpeta, la cual contendrá un archivo vacío llamado `_SUCCESS`, que indica el éxito de la grabación, así como múltiples archivos csv."
      ]
    },
    {
      "cell_type": "code",
      "execution_count": null,
      "metadata": {
        "id": "8c1KwdgBEy9_"
      },
      "outputs": [],
      "source": [
        "df.write.options(header=True).csv(\"salida_csv\")"
      ]
    },
    {
      "cell_type": "markdown",
      "metadata": {
        "id": "hBQfXAUjJEnr"
      },
      "source": [
        "La salida también puede ser parquet. Igualmente, se indica el nombre de la carpeta de salida."
      ]
    },
    {
      "cell_type": "code",
      "execution_count": null,
      "metadata": {
        "id": "YwbqaU-5DZL_"
      },
      "outputs": [],
      "source": [
        "df.write.parquet(\"salida_parquet\")"
      ]
    },
    {
      "cell_type": "markdown",
      "metadata": {
        "id": "bF41xv_6JlOg"
      },
      "source": [
        "Otro formato de salida es ORC."
      ]
    },
    {
      "cell_type": "code",
      "execution_count": null,
      "metadata": {
        "id": "ceF1N6j-JfcE"
      },
      "outputs": [],
      "source": [
        "df.write.orc(\"salida_orc\")"
      ]
    }
  ],
  "metadata": {
    "colab": {
      "provenance": [],
      "include_colab_link": true
    },
    "kernelspec": {
      "display_name": "Python 3",
      "language": "python",
      "name": "python3"
    },
    "language_info": {
      "codemirror_mode": {
        "name": "ipython",
        "version": 3
      },
      "file_extension": ".py",
      "mimetype": "text/x-python",
      "name": "python",
      "nbconvert_exporter": "python",
      "pygments_lexer": "ipython3",
      "version": "3.8.5"
    }
  },
  "nbformat": 4,
  "nbformat_minor": 0
}