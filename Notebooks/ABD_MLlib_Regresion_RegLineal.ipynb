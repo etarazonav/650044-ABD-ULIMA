{
  "nbformat": 4,
  "nbformat_minor": 0,
  "metadata": {
    "anaconda-cloud": {},
    "colab": {
      "provenance": [],
      "include_colab_link": true
    },
    "kernelspec": {
      "display_name": "Python 3",
      "language": "python",
      "name": "python3"
    },
    "language_info": {
      "codemirror_mode": {
        "name": "ipython",
        "version": 3
      },
      "file_extension": ".py",
      "mimetype": "text/x-python",
      "name": "python",
      "nbconvert_exporter": "python",
      "pygments_lexer": "ipython3",
      "version": "3.8.3"
    }
  },
  "cells": [
    {
      "cell_type": "markdown",
      "metadata": {
        "id": "view-in-github",
        "colab_type": "text"
      },
      "source": [
        "<a href=\"https://colab.research.google.com/github/etarazonav/650044-ABD-ULIMA/blob/main/Notebooks/ABD_MLlib_Regresion_RegLineal.ipynb\" target=\"_parent\"><img src=\"https://colab.research.google.com/assets/colab-badge.svg\" alt=\"Open In Colab\"/></a>"
      ]
    },
    {
      "cell_type": "markdown",
      "source": [
        "# <img style=\"float: left; padding: 0px 10px 0px 0px;\" src=\"https://upload.wikimedia.org/wikipedia/commons/thumb/a/a0/Universidad_de_Lima_logo.png/220px-Universidad_de_Lima_logo.png\"  width=\"120\" />  MLlib: Regresión Lineal\n",
        "**Profesor:** Enver G. Tarazona Vargas <br>\n",
        "**Curso:** Analítica con Big Data <br>\n",
        "**FACULTAD DE INGENIERÍA - CARRERA DE INGENIERÍA DE SISTEMAS**<br>"
      ],
      "metadata": {
        "id": "5HIQoHrqJy1s"
      }
    },
    {
      "cell_type": "markdown",
      "metadata": {
        "id": "kCoIQhXTjDt6"
      },
      "source": [
        "# Ejemplo 1 de Regresión: Regresión Lineal"
      ]
    },
    {
      "cell_type": "code",
      "metadata": {
        "id": "oBsHGHcZhVtv"
      },
      "source": [
        "# Solo si se corre en Google Colab\n",
        "!pip install -q pyspark"
      ],
      "execution_count": null,
      "outputs": []
    },
    {
      "cell_type": "code",
      "metadata": {
        "id": "gaw5i4SRjDt9"
      },
      "source": [
        "from pyspark.sql import SparkSession\n",
        "from pyspark.ml.regression import LinearRegression\n",
        "\n",
        "spark = SparkSession.builder.getOrCreate()"
      ],
      "execution_count": null,
      "outputs": []
    },
    {
      "cell_type": "code",
      "source": [
        "# Carga de archivos\n",
        "!wget -q https://raw.githubusercontent.com/etarazonav/650044-ABD-ULIMA/refs/heads/main/Datos/Clientes.csv"
      ],
      "metadata": {
        "id": "GaBa1s8CGS2f"
      },
      "execution_count": null,
      "outputs": []
    },
    {
      "cell_type": "markdown",
      "source": [
        "## 1.&nbsp;Lectura de Datos"
      ],
      "metadata": {
        "id": "xKGWuKpEhX7K"
      }
    },
    {
      "cell_type": "markdown",
      "metadata": {
        "id": "3So2TCQQjDt8"
      },
      "source": [
        "Se examinará el dataset llamado \"Clientes\" que contiene datos del sitio web y de la aplicación móvil de una compañía. Se desea construir un modelo de regresión que prediga el gasto anual del cliente en los productos de la compañía."
      ]
    },
    {
      "cell_type": "code",
      "metadata": {
        "id": "rMFCwXFEjDuC"
      },
      "source": [
        "# Cargar los datos\n",
        "df = spark.read.csv(\"Clientes.csv\", inferSchema=True, header=True)\n",
        "\n",
        "# Esquema de los datos\n",
        "df.printSchema()"
      ],
      "execution_count": null,
      "outputs": []
    },
    {
      "cell_type": "code",
      "source": [
        "# Mostrar las 5 primeras filas\n",
        "df.show(5)"
      ],
      "metadata": {
        "id": "IEwaR9AEjsSf"
      },
      "execution_count": null,
      "outputs": []
    },
    {
      "cell_type": "markdown",
      "metadata": {
        "id": "7NteBxKIjDuV"
      },
      "source": [
        "## 2.&nbsp;Pre-procesamiento\n",
        "\n",
        "Para regresión con MLlib los datos deben encontrarse en dos columnas: `(\"etiquetas\",\"atributos\")`, donde `atributos` es una sola columna que contiene una lista con todos los atributos. Para poder crear esta columna `atributos` se debe agrupar los atributos usando un `VectorAssembler`."
      ]
    },
    {
      "cell_type": "code",
      "metadata": {
        "id": "IjLzKtjnjDuW"
      },
      "source": [
        "from pyspark.ml.feature import VectorAssembler"
      ],
      "execution_count": null,
      "outputs": []
    },
    {
      "cell_type": "markdown",
      "source": [
        "En este ejemplo las variables que se utilizará para predecir será solo las variables cuantitativas (Promedio sesión, Tiempo en App, Tiempo en SitioWeb, Tiempo de Membresía) y se descartará las variables cualitativas que posiblemente no aportan información relevante para la predicción."
      ],
      "metadata": {
        "id": "Y8SPTM8FmHyI"
      }
    },
    {
      "cell_type": "code",
      "metadata": {
        "id": "LFOY-IcjjDub"
      },
      "source": [
        "# Se utilizará los siguientes atributos bajo el nombre \"atributos\"\n",
        "vassembler = VectorAssembler(inputCols=['Promedio sesion',\n",
        "                                        'Tiempo en App',\n",
        "                                        'Tiempo en SitioWeb',\n",
        "                                        'Tiempo de Membresia'],\n",
        "                             outputCol=\"Atributos\")\n",
        "\n",
        "# Aplicar a los datos\n",
        "df2 = vassembler.transform(df)\n",
        "\n",
        "# Visualizar el resultado\n",
        "df2.show(5, truncate=False)"
      ],
      "execution_count": null,
      "outputs": []
    },
    {
      "cell_type": "markdown",
      "source": [
        "Se desea predecir el \"Gasto Anual\" a partir de los atributos anteriores, por lo que el DataFrame que se utilizará contendrá las columnas `Atributos` y `Gasto Anual`."
      ],
      "metadata": {
        "id": "c2M1nSBInwsS"
      }
    },
    {
      "cell_type": "code",
      "source": [
        "# Conjunto de datos para regresión: \"atributos, gasto anual\"\n",
        "df_final = df2.select(\"Atributos\", 'Gasto Anual')\n",
        "df_final.show(5, truncate=False)"
      ],
      "metadata": {
        "id": "aLwYOCa_oHBe"
      },
      "execution_count": null,
      "outputs": []
    },
    {
      "cell_type": "markdown",
      "source": [
        "Separación de los datos en un conjunto de entrenamiento `train_data` y de prueba (evaluación) `test_data`. En este caso se utilizará una proporción de 70% a 30%."
      ],
      "metadata": {
        "id": "LqzDFsAXoslm"
      }
    },
    {
      "cell_type": "code",
      "metadata": {
        "id": "p9n5dRkyjDul"
      },
      "source": [
        "train_data, test_data = df_final.randomSplit([0.7, 0.3])"
      ],
      "execution_count": null,
      "outputs": []
    },
    {
      "cell_type": "markdown",
      "source": [
        "Se mostrará un resumen de los datos de entrenamiento (`train_data`) y de los datos de prueba o evaluación (`test_data`)."
      ],
      "metadata": {
        "id": "nh6lb4LupYpX"
      }
    },
    {
      "cell_type": "code",
      "source": [
        "train_data.describe().show()\n",
        "test_data.describe().show()"
      ],
      "metadata": {
        "id": "-Yec-pCZpVvf"
      },
      "execution_count": null,
      "outputs": []
    },
    {
      "cell_type": "markdown",
      "metadata": {
        "id": "PaFMvjj2j1E4"
      },
      "source": [
        "## 3.&nbsp;Entrenamiento del Modelo de Regresión"
      ]
    },
    {
      "cell_type": "markdown",
      "source": [
        "Los datos para cualquier modelo supervisado de Spark MLlib requieren dos columnas: \"label\" y \"features\".\n",
        "\n",
        "* La columna \"label\" necesita ser numérica, sea de valor real (para una regresión numérica), o de valor entero (para clasificación).\n",
        "* La columna \"feature\" contiene un vector con todos los atributos (\"features\") que corresponden a dicha fila. Usualmente para obtener esta columna se combina varias columnas de atributos en una sola columna"
      ],
      "metadata": {
        "id": "Sc-MjIGzzrJC"
      }
    },
    {
      "cell_type": "code",
      "metadata": {
        "id": "c5JlnnnzjDuw"
      },
      "source": [
        "# Creación de un objeto de Regresión Lineal\n",
        "reglin = LinearRegression(featuresCol=\"Atributos\",\n",
        "                          labelCol='Gasto Anual',\n",
        "                          predictionCol= \"Predicción\")\n",
        "\n",
        "# Entrenamiento del modelo (con el conjunto de entrenamiento)\n",
        "modelo = reglin.fit(train_data)"
      ],
      "execution_count": null,
      "outputs": []
    },
    {
      "cell_type": "code",
      "source": [
        "modelo"
      ],
      "metadata": {
        "id": "tny9_DBsqY6G"
      },
      "execution_count": null,
      "outputs": []
    },
    {
      "cell_type": "code",
      "metadata": {
        "id": "Y5Vztv-KOww6"
      },
      "source": [
        "# Coeficientes e intercepto para la regresión lineal\n",
        "print(\"Coeficientes:\", modelo.coefficients)\n",
        "print(\"Intercepto:\", modelo.intercept)"
      ],
      "execution_count": null,
      "outputs": []
    },
    {
      "cell_type": "markdown",
      "source": [
        "El atributo \"summary\" contiene información sobre el modelo entrenado (evaluación sobre el conjunto de entrenamiento)"
      ],
      "metadata": {
        "id": "BpdrUOSIaGqq"
      }
    },
    {
      "cell_type": "code",
      "metadata": {
        "id": "Hzeaj1ftW5eb"
      },
      "source": [
        "# Métricas en el conjunto de entrenamiento\n",
        "print(\"MAE del conjunto de entrenamiento:\", modelo.summary.meanAbsoluteError)\n",
        "print(\"RMSE del conjunto de entrenamiento:\", modelo.summary.rootMeanSquaredError)\n",
        "print(\"r2 del conjunto de entrenamiento:\", modelo.summary.r2)"
      ],
      "execution_count": null,
      "outputs": []
    },
    {
      "cell_type": "markdown",
      "source": [
        "El siguiente DataFrame muestra las predicciones del modelo para el conjunto de entrenamiento."
      ],
      "metadata": {
        "id": "3vEIF3uAtJXZ"
      }
    },
    {
      "cell_type": "code",
      "source": [
        "df_salida = modelo.summary.predictions\n",
        "df_salida.show(5)"
      ],
      "metadata": {
        "id": "DFlIaE0KtI4l"
      },
      "execution_count": null,
      "outputs": []
    },
    {
      "cell_type": "markdown",
      "source": [
        "Se realizará una figura de los valores reales (\"Gasto Anual\") y los valores predichos (\"Predicción\") para inspección visual  de la predicción en el conjunto de entrenamiento."
      ],
      "metadata": {
        "id": "GNQDTwpqu59R"
      }
    },
    {
      "cell_type": "code",
      "source": [
        "import matplotlib.pyplot as plt"
      ],
      "metadata": {
        "id": "-91psFVHwOXv"
      },
      "execution_count": null,
      "outputs": []
    },
    {
      "cell_type": "code",
      "metadata": {
        "id": "2JbNTnZHB8nE"
      },
      "source": [
        "# Recuperar las columnas de interés: Gasto Anual y Predicción\n",
        "yreal = df_salida.select('Gasto Anual').collect()\n",
        "ypred = df_salida.select('Predicción').collect()\n",
        "\n",
        "# Figuras\n",
        "plt.figure(figsize=(12, 4))\n",
        "plt.plot(yreal)\n",
        "plt.plot(ypred)\n",
        "plt.legend(['Gasto real', 'Gasto predicho'])\n",
        "plt.xlabel('Muestra'); plt.ylabel('Gasto');"
      ],
      "execution_count": null,
      "outputs": []
    },
    {
      "cell_type": "markdown",
      "metadata": {
        "id": "H7X2O0F7lL-c"
      },
      "source": [
        "## 4.&nbsp;Evaluación del Modelo"
      ]
    },
    {
      "cell_type": "code",
      "metadata": {
        "id": "nf4BQUZBjDu3"
      },
      "source": [
        "# Aplicación del modelo entrenado al conjunto de prueba (test)\n",
        "resultados = modelo.evaluate(test_data)\n",
        "resultados"
      ],
      "execution_count": null,
      "outputs": []
    },
    {
      "cell_type": "markdown",
      "source": [
        "Resultados en el conjunto de evaluación:\n",
        "* Gasto Anual: etiquetas reales\n",
        "* Predicción: predicciones realizadas por el modelo"
      ],
      "metadata": {
        "id": "s7tWYoUvpTDg"
      }
    },
    {
      "cell_type": "code",
      "source": [
        "resultados.predictions.show(5, truncate=False)"
      ],
      "metadata": {
        "id": "Etwobtj4o9yJ"
      },
      "execution_count": null,
      "outputs": []
    },
    {
      "cell_type": "code",
      "source": [
        "# Residuos (valores \"reales\" - valores \"predichos\")\n",
        "resultados.residuals.show(8)"
      ],
      "metadata": {
        "id": "djXGH91dxVYd"
      },
      "execution_count": null,
      "outputs": []
    },
    {
      "cell_type": "code",
      "metadata": {
        "id": "WSS1CC-7mUt1"
      },
      "source": [
        "# Métricas en el conjunto de evaluación\n",
        "print(\"MAE del conjunto de prueba:\", resultados.meanAbsoluteError)\n",
        "print(\"RMSE del conjunto de prueba:\", resultados.rootMeanSquaredError)\n",
        "print(\"MSE del conjunto de prueba:\", resultados.meanSquaredError)\n",
        "print(\"R^2 del conjunto de prueba:\", resultados.r2)"
      ],
      "execution_count": null,
      "outputs": []
    },
    {
      "cell_type": "markdown",
      "source": [
        "Inspección visual de la predicción en el conjunto de prueba o evaluación.\n",
        "\n"
      ],
      "metadata": {
        "id": "MuhsY9DMojGW"
      }
    },
    {
      "cell_type": "code",
      "source": [
        "# Recuperar las columnas de interés: Gasto Anual y Predicción\n",
        "yreal = resultados.predictions.select('Gasto Anual').collect()\n",
        "ypred = resultados.predictions.select('Predicción').collect()\n",
        "\n",
        "# Figuras\n",
        "plt.figure(figsize=(12, 4))\n",
        "plt.plot(yreal)\n",
        "plt.plot(ypred)\n",
        "plt.legend(['Gasto real', 'Gasto predicho'])\n",
        "plt.xlabel('Muestra'); plt.ylabel('Gasto');"
      ],
      "metadata": {
        "id": "aYB-lpWuojh7"
      },
      "execution_count": null,
      "outputs": []
    },
    {
      "cell_type": "markdown",
      "metadata": {
        "id": "47NBElxlXT3j"
      },
      "source": [
        "## 5.&nbsp;Predicción"
      ]
    },
    {
      "cell_type": "markdown",
      "source": [
        "Una vez entrenado el modelo, se puede utilizar para predecir valores para nuevos conjuntos de datos. En este caso, para realizar esta prueba, se utilizará únicamente la columna de `Atributos` del conjunto de evaluación."
      ],
      "metadata": {
        "id": "h3iR6HjKyLZ3"
      }
    },
    {
      "cell_type": "code",
      "metadata": {
        "id": "_ucdcBzKjDu8"
      },
      "source": [
        "# Datos para los cuales se realizará la predicción\n",
        "df2 = test_data.select('Atributos')\n",
        "df2.show(5, truncate=False)"
      ],
      "execution_count": null,
      "outputs": []
    },
    {
      "cell_type": "code",
      "metadata": {
        "id": "LSOgyWf9Xg0s"
      },
      "source": [
        "# Predicciones sobre los datos\n",
        "predicciones = modelo.transform(df2)\n",
        "\n",
        "# Resultado\n",
        "predicciones.show(5, truncate=False)"
      ],
      "execution_count": null,
      "outputs": []
    },
    {
      "cell_type": "code",
      "source": [],
      "metadata": {
        "id": "ozKeQyt6pnCS"
      },
      "execution_count": null,
      "outputs": []
    }
  ]
}