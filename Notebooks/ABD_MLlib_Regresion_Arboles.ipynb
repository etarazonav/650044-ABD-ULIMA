{
  "nbformat": 4,
  "nbformat_minor": 0,
  "metadata": {
    "anaconda-cloud": {},
    "colab": {
      "provenance": [],
      "include_colab_link": true
    },
    "kernelspec": {
      "display_name": "Python 3",
      "language": "python",
      "name": "python3"
    },
    "language_info": {
      "codemirror_mode": {
        "name": "ipython",
        "version": 3
      },
      "file_extension": ".py",
      "mimetype": "text/x-python",
      "name": "python",
      "nbconvert_exporter": "python",
      "pygments_lexer": "ipython3",
      "version": "3.8.3"
    }
  },
  "cells": [
    {
      "cell_type": "markdown",
      "metadata": {
        "id": "view-in-github",
        "colab_type": "text"
      },
      "source": [
        "<a href=\"https://colab.research.google.com/github/etarazonav/650044-ABD-ULIMA/blob/main/Notebooks/ABD_MLlib_Regresion_Arboles.ipynb\" target=\"_parent\"><img src=\"https://colab.research.google.com/assets/colab-badge.svg\" alt=\"Open In Colab\"/></a>"
      ]
    },
    {
      "cell_type": "markdown",
      "source": [
        "# <img style=\"float: left; padding: 0px 10px 0px 0px;\" src=\"https://upload.wikimedia.org/wikipedia/commons/thumb/a/a0/Universidad_de_Lima_logo.png/220px-Universidad_de_Lima_logo.png\"  width=\"120\" />  MLlib: Regresión (II)\n",
        "**Profesor:** Enver G. Tarazona Vargas <br>\n",
        "**Curso:** Analítica con Big Data <br>\n",
        "**FACULTAD DE INGENIERÍA - CARRERA DE INGENIERÍA DE SISTEMAS**<br>"
      ],
      "metadata": {
        "id": "E04OYQmTZGee"
      }
    },
    {
      "cell_type": "markdown",
      "metadata": {
        "id": "kCoIQhXTjDt6"
      },
      "source": [
        "# Ejemplo 2 de Regresión: Árboles de decisión (árboles de regresión)"
      ]
    },
    {
      "cell_type": "code",
      "metadata": {
        "id": "oBsHGHcZhVtv"
      },
      "source": [
        "# Solo si se corre en Google Colab\n",
        "!pip install -q pyspark"
      ],
      "execution_count": null,
      "outputs": []
    },
    {
      "cell_type": "code",
      "metadata": {
        "id": "gaw5i4SRjDt9"
      },
      "source": [
        "from pyspark.sql import SparkSession\n",
        "from pyspark.ml.regression import LinearRegression\n",
        "\n",
        "spark = SparkSession.builder.getOrCreate()"
      ],
      "execution_count": null,
      "outputs": []
    },
    {
      "cell_type": "code",
      "source": [
        "# Carga de archivos\n",
        "!wget -q https://raw.githubusercontent.com/etarazonav/650044-ABD-ULIMA/refs/heads/main/Datos/Clientes.csv"
      ],
      "metadata": {
        "id": "iiRXyjkGG8WA"
      },
      "execution_count": null,
      "outputs": []
    },
    {
      "cell_type": "markdown",
      "source": [
        "## 1.&nbsp;Lectura de Datos"
      ],
      "metadata": {
        "id": "xKGWuKpEhX7K"
      }
    },
    {
      "cell_type": "markdown",
      "metadata": {
        "id": "3So2TCQQjDt8"
      },
      "source": [
        "Se examinará el dataset llamado \"Clientes\" que contiene datos del sitio web y de la aplicación móvil de una compañía. Se desea construir un modelo de regresión que prediga el gasto anual del cliente en los productos de la compañía."
      ]
    },
    {
      "cell_type": "code",
      "metadata": {
        "id": "rMFCwXFEjDuC"
      },
      "source": [
        "# Cargar los datos\n",
        "df = spark.read.csv(\"Clientes.csv\", inferSchema=True, header=True)"
      ],
      "execution_count": null,
      "outputs": []
    },
    {
      "cell_type": "markdown",
      "metadata": {
        "id": "7NteBxKIjDuV"
      },
      "source": [
        "## 2.&nbsp;Pre-procesamiento\n",
        "\n",
        "Para regresión con MLlib los datos deben encontrarse en dos columnas: `(\"etiquetas\",\"atributos\")`, donde `atributos` es una sola columna que contiene una lista con todos los atributos. Para poder crear esta columna `atributos` se debe agrupar los atributos usando un `VectorAssembler`."
      ]
    },
    {
      "cell_type": "code",
      "metadata": {
        "id": "LFOY-IcjjDub"
      },
      "source": [
        "from pyspark.ml.feature import VectorAssembler\n",
        "\n",
        "# Se utilizará los siguientes atributos bajo el nombre \"atributos\"\n",
        "vassembler = VectorAssembler(inputCols=['Promedio sesion',\n",
        "                                        'Tiempo en App',\n",
        "                                        'Tiempo en SitioWeb',\n",
        "                                        'Tiempo de Membresia'],\n",
        "                             outputCol=\"Atributos\")\n",
        "# Aplicar a los datos\n",
        "df2 = vassembler.transform(df)\n",
        "# Conjunto de datos para regresión: \"atributos, gasto anual\"\n",
        "df_final = df2.select(\"Atributos\", 'Gasto Anual')\n",
        "# Separación en conjunto de entrenamiento y evaluación\n",
        "train_data, test_data = df_final.randomSplit([0.7, 0.3])"
      ],
      "execution_count": null,
      "outputs": []
    },
    {
      "cell_type": "markdown",
      "metadata": {
        "id": "PaFMvjj2j1E4"
      },
      "source": [
        "## 3.&nbsp;Entrenamiento del Modelo de Regresión"
      ]
    },
    {
      "cell_type": "code",
      "source": [
        "from pyspark.ml.regression import DecisionTreeRegressor, RandomForestRegressor"
      ],
      "metadata": {
        "id": "wbThK5l2qsbB"
      },
      "execution_count": null,
      "outputs": []
    },
    {
      "cell_type": "code",
      "metadata": {
        "id": "c5JlnnnzjDuw"
      },
      "source": [
        "# Creación de un objeto de Regresión Lineal\n",
        "dtreg = DecisionTreeRegressor(featuresCol=\"Atributos\",\n",
        "                              labelCol='Gasto Anual',\n",
        "                              predictionCol= \"Predicción\")\n",
        "\n",
        "# Entrenamiento del modelo (con el conjunto de entrenamiento)\n",
        "modeloDT = dtreg.fit(train_data)"
      ],
      "execution_count": null,
      "outputs": []
    },
    {
      "cell_type": "code",
      "source": [
        "modeloDT"
      ],
      "metadata": {
        "id": "tny9_DBsqY6G"
      },
      "execution_count": null,
      "outputs": []
    },
    {
      "cell_type": "markdown",
      "source": [
        "Predicción en el conjunto de entrenamiento"
      ],
      "metadata": {
        "id": "YOlxuafPr6_2"
      }
    },
    {
      "cell_type": "code",
      "source": [
        "predicciones = modeloDT.transform(train_data)\n",
        "predicciones.show(5, truncate=False)"
      ],
      "metadata": {
        "id": "priCSicBsBdV"
      },
      "execution_count": null,
      "outputs": []
    },
    {
      "cell_type": "markdown",
      "source": [
        "RMSE en el conjunto de entrenamiento"
      ],
      "metadata": {
        "id": "ALSC4R4lsMjw"
      }
    },
    {
      "cell_type": "code",
      "source": [
        "from pyspark.ml.evaluation import RegressionEvaluator\n",
        "\n",
        "eval_rmse = RegressionEvaluator(labelCol=\"Gasto Anual\", predictionCol=\"Predicción\",\n",
        "                                metricName=\"rmse\")\n",
        "\n",
        "eval_mae = RegressionEvaluator(labelCol=\"Gasto Anual\", predictionCol=\"Predicción\",\n",
        "                               metricName=\"mae\")\n",
        "\n",
        "eval_mse = RegressionEvaluator(labelCol=\"Gasto Anual\", predictionCol=\"Predicción\",\n",
        "                               metricName=\"mse\")\n",
        "\n",
        "eval_r2 = RegressionEvaluator(labelCol=\"Gasto Anual\", predictionCol=\"Predicción\",\n",
        "                               metricName=\"r2\")"
      ],
      "metadata": {
        "id": "eCAZl3S_rWOH"
      },
      "execution_count": null,
      "outputs": []
    },
    {
      "cell_type": "code",
      "source": [
        "rmse = eval_rmse.evaluate(predicciones)\n",
        "mae = eval_mae.evaluate(predicciones)\n",
        "mse = eval_mse.evaluate(predicciones)\n",
        "r2 = eval_r2.evaluate(predicciones)\n",
        "\n",
        "print(\"MAE del conjunto de entrenamiento:\", mae)\n",
        "print(\"RMSE del conjunto de entrenamiento:\", rmse)\n",
        "print(\"MSE del conjunto de entrenamiento:\", mse)\n",
        "print(\"R^2 del conjunto de entrenamiento:\", r2)"
      ],
      "metadata": {
        "id": "kfdyDM-QrJST"
      },
      "execution_count": null,
      "outputs": []
    },
    {
      "cell_type": "markdown",
      "source": [
        "Se realizará una figura de los valores reales (\"Gasto Anual\") y los valores predichos (\"Predicción\") para inspección visual de la predicción."
      ],
      "metadata": {
        "id": "GNQDTwpqu59R"
      }
    },
    {
      "cell_type": "code",
      "source": [
        "import matplotlib.pyplot as plt"
      ],
      "metadata": {
        "id": "-91psFVHwOXv"
      },
      "execution_count": null,
      "outputs": []
    },
    {
      "cell_type": "code",
      "metadata": {
        "id": "2JbNTnZHB8nE"
      },
      "source": [
        "# Recuperar las columnas de interés: Gasto Anual y Predicción\n",
        "yreal = predicciones.select('Gasto Anual').collect()\n",
        "ypred = predicciones.select('Predicción').collect()\n",
        "\n",
        "# Figuras\n",
        "plt.figure(figsize=(12, 4))\n",
        "plt.plot(yreal)\n",
        "plt.plot(ypred)\n",
        "plt.legend(['Gasto real', 'Gasto predicho'])\n",
        "plt.xlabel('Muestra'); plt.ylabel('Gasto');"
      ],
      "execution_count": null,
      "outputs": []
    },
    {
      "cell_type": "markdown",
      "metadata": {
        "id": "H7X2O0F7lL-c"
      },
      "source": [
        "## 4.&nbsp;Evaluación del Modelo"
      ]
    },
    {
      "cell_type": "code",
      "metadata": {
        "id": "nf4BQUZBjDu3"
      },
      "source": [
        "# Aplicación del modelo entrenado al conjunto de prueba (test)\n",
        "predicciones = modeloDT.transform(test_data)\n",
        "predicciones.show(5, truncate=False)"
      ],
      "execution_count": null,
      "outputs": []
    },
    {
      "cell_type": "code",
      "source": [
        "rmse = eval_rmse.evaluate(predicciones)\n",
        "mae = eval_mae.evaluate(predicciones)\n",
        "mse = eval_mse.evaluate(predicciones)\n",
        "r2 = eval_r2.evaluate(predicciones)\n",
        "\n",
        "print(\"MAE del conjunto de prueba:\", mae)\n",
        "print(\"RMSE del conjunto de prueba:\", rmse)\n",
        "print(\"MSE del conjunto de prueba:\", mse)\n",
        "print(\"R^2 del conjunto de prueba:\", r2)"
      ],
      "metadata": {
        "id": "djXGH91dxVYd"
      },
      "execution_count": null,
      "outputs": []
    },
    {
      "cell_type": "code",
      "metadata": {
        "id": "WSS1CC-7mUt1"
      },
      "source": [
        "# Recuperar las columnas de interés: Gasto Anual y Predicción\n",
        "yreal = predicciones.select('Gasto Anual').collect()\n",
        "ypred = predicciones.select('Predicción').collect()\n",
        "\n",
        "# Figuras\n",
        "plt.figure(figsize=(12, 4))\n",
        "plt.plot(yreal)\n",
        "plt.plot(ypred)\n",
        "plt.legend(['Gasto real', 'Gasto predicho'])\n",
        "plt.xlabel('Muestra'); plt.ylabel('Gasto');"
      ],
      "execution_count": null,
      "outputs": []
    },
    {
      "cell_type": "markdown",
      "metadata": {
        "id": "47NBElxlXT3j"
      },
      "source": [
        "## 5.&nbsp;Predicción"
      ]
    },
    {
      "cell_type": "markdown",
      "source": [
        "Una vez entrenado el modelo, se puede utilizar para predecir valores para nuevos conjuntos de datos. En este caso, para realizar esta prueba, se utilizará únicamente la columna de `Atributos` del conjunto de evaluación."
      ],
      "metadata": {
        "id": "h3iR6HjKyLZ3"
      }
    },
    {
      "cell_type": "code",
      "metadata": {
        "id": "_ucdcBzKjDu8"
      },
      "source": [
        "# Datos para los cuales se realizará la predicción\n",
        "df2 = test_data.select('Atributos')\n",
        "df2.show(5, truncate=False)"
      ],
      "execution_count": null,
      "outputs": []
    },
    {
      "cell_type": "code",
      "metadata": {
        "id": "LSOgyWf9Xg0s"
      },
      "source": [
        "# Predicciones sobre los datos\n",
        "predicciones = modeloDT.transform(df2)\n",
        "\n",
        "# Resultado\n",
        "predicciones.show(5, truncate=False)"
      ],
      "execution_count": null,
      "outputs": []
    },
    {
      "cell_type": "code",
      "source": [],
      "metadata": {
        "id": "BkfhoVBQZzIy"
      },
      "execution_count": null,
      "outputs": []
    }
  ]
}