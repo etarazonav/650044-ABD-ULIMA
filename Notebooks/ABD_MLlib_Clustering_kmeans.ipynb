{
  "nbformat": 4,
  "nbformat_minor": 0,
  "metadata": {
    "anaconda-cloud": {},
    "colab": {
      "provenance": [],
      "include_colab_link": true
    },
    "kernelspec": {
      "display_name": "Python 3",
      "language": "python",
      "name": "python3"
    },
    "language_info": {
      "codemirror_mode": {
        "name": "ipython",
        "version": 3
      },
      "file_extension": ".py",
      "mimetype": "text/x-python",
      "name": "python",
      "nbconvert_exporter": "python",
      "pygments_lexer": "ipython3",
      "version": "3.8.3"
    }
  },
  "cells": [
    {
      "cell_type": "markdown",
      "metadata": {
        "id": "view-in-github",
        "colab_type": "text"
      },
      "source": [
        "<a href=\"https://colab.research.google.com/github/etarazonav/650044-ABD-ULIMA/blob/main/Notebooks/ABD_MLlib_Clustering_kmeans.ipynb\" target=\"_parent\"><img src=\"https://colab.research.google.com/assets/colab-badge.svg\" alt=\"Open In Colab\"/></a>"
      ]
    },
    {
      "cell_type": "markdown",
      "source": [
        "# <img style=\"float: left; padding: 0px 10px 0px 0px;\" src=\"https://upload.wikimedia.org/wikipedia/commons/thumb/a/a0/Universidad_de_Lima_logo.png/220px-Universidad_de_Lima_logo.png\"  width=\"120\" />  MLlib: Clustering (Agrupamiento)\n",
        "**Profesor:** Enver G. Tarazona Vargas <br>\n",
        "**Curso:** Analítica con Big Data <br>\n",
        "**FACULTAD DE INGENIERÍA - CARRERA DE INGENIERÍA DE SISTEMAS**<br>"
      ],
      "metadata": {
        "id": "cm7sOHamJics"
      }
    },
    {
      "cell_type": "markdown",
      "metadata": {
        "id": "B78YTMAxDdpF"
      },
      "source": [
        "# Clustering (Agrupamiento) usando K-means\n",
        "\n",
        "\n",
        "La implementación de MLlib incluye una versión paralelizada del método <a href=\"http://en.wikipedia.org/wiki/K-means%2B%2B\">k-means++</a>, llamada <a href=\"http://theory.stanford.edu/~sergei/papers/vldb12-kmpar.pdf\">kmeans||</a>.\n",
        "\n",
        "Los datos de este ejemplo están adaptados del repositorio UCI: https://archive.ics.uci.edu/ml/datasets/seeds.\n",
        "\n",
        "Los datos contienen datos de granos de trigo correspondientes a tres variedades diferentes. Cada variedad tiene 70 elementos seleccionados aleatoriamente. Se utilizó rayos X para realizar la visualización de la estructura interna del grano."
      ]
    },
    {
      "cell_type": "code",
      "metadata": {
        "id": "P7Pec-oTMAiu"
      },
      "source": [
        "# Solo necesario si se usa Google Colab\n",
        "!pip install -q pyspark"
      ],
      "execution_count": null,
      "outputs": []
    },
    {
      "cell_type": "code",
      "metadata": {
        "id": "oBFz5rdnDdpJ"
      },
      "source": [
        "from pyspark.sql import SparkSession\n",
        "from pyspark.ml.clustering import KMeans\n",
        "\n",
        "spark = SparkSession.builder.getOrCreate()"
      ],
      "execution_count": null,
      "outputs": []
    },
    {
      "cell_type": "code",
      "source": [
        "# Carga de archivos\n",
        "!wget -q https://raw.githubusercontent.com/etarazonav/650044-ABD-ULIMA/refs/heads/main/Datos/datos_semillas.csv"
      ],
      "metadata": {
        "id": "9rgGeQBbORHH"
      },
      "execution_count": null,
      "outputs": []
    },
    {
      "cell_type": "code",
      "metadata": {
        "id": "mqUcVi7BDdpN"
      },
      "source": [
        "# Cargar los datos\n",
        "dfsemillas = spark.read.csv(\"datos_semillas.csv\", header=True, inferSchema=True)\n",
        "\n",
        "#dfsemillas.printSchema()\n",
        "dfsemillas.show(5)"
      ],
      "execution_count": null,
      "outputs": []
    },
    {
      "cell_type": "code",
      "metadata": {
        "id": "U3ap1GPqtGoO"
      },
      "source": [
        "# Resumen de los datos\n",
        "dfsemillas.describe().show()"
      ],
      "execution_count": null,
      "outputs": []
    },
    {
      "cell_type": "markdown",
      "metadata": {
        "id": "l11JogZaDdpV"
      },
      "source": [
        "## 1.&nbsp;Pre-procesamiento de datos"
      ]
    },
    {
      "cell_type": "code",
      "metadata": {
        "id": "hpULUDSZDdpV"
      },
      "source": [
        "from pyspark.ml.feature import VectorAssembler"
      ],
      "execution_count": null,
      "outputs": []
    },
    {
      "cell_type": "code",
      "metadata": {
        "id": "HFnalez9DdpX"
      },
      "source": [
        "# Preparar los datos en una columna llamada \"atributos\"\n",
        "vec_assembler = VectorAssembler(inputCols=dfsemillas.columns,\n",
        "                                outputCol='atributos')\n",
        "\n",
        "# Transformar los datos\n",
        "df0 = vec_assembler.transform(dfsemillas)\n",
        "\n",
        "# Mostrar el DF: se añade una columna al final con los \"atributos\" en formato adecuado para Spark\n",
        "df0.show(5)"
      ],
      "execution_count": null,
      "outputs": []
    },
    {
      "cell_type": "markdown",
      "source": [
        "Al realizar agrupamiento solo se tiene los atributos (sin etiquetas), por lo que aquí se quitará el resto y solo se utilizará la columna de atributos llamada, en este caso, `atributos`"
      ],
      "metadata": {
        "id": "y6vwamd1PGOX"
      }
    },
    {
      "cell_type": "code",
      "metadata": {
        "id": "BIADl5gRuUn1"
      },
      "source": [
        "df1 = df0.select('atributos')\n",
        "df1.show(5, truncate=False)"
      ],
      "execution_count": null,
      "outputs": []
    },
    {
      "cell_type": "markdown",
      "source": [
        "Debido a que se utilizará k-means, y este método se basa en distancias, se realizará el escalamiento de los datos"
      ],
      "metadata": {
        "id": "F1FreSi2Q3Ov"
      }
    },
    {
      "cell_type": "code",
      "source": [
        "from pyspark.ml.feature import StandardScaler"
      ],
      "metadata": {
        "id": "y1bGy3NbTUtm"
      },
      "execution_count": null,
      "outputs": []
    },
    {
      "cell_type": "code",
      "metadata": {
        "id": "ybsL5ZfnQ_mp"
      },
      "source": [
        "# El valor de salida es z = (x-media)/(deviacion_estandar)\n",
        "scaler = StandardScaler(inputCol=\"atributos\", outputCol=\"atributos_escalados\",\n",
        "                        withStd=True, withMean=True)\n",
        "\n",
        "# Transformar los datos (estandarizar o normalizar)\n",
        "df = scaler.fit(df1).transform(df1)\n",
        "df.show(5, truncate=False)"
      ],
      "execution_count": null,
      "outputs": []
    },
    {
      "cell_type": "markdown",
      "metadata": {
        "id": "IZTPTz5DDdpn"
      },
      "source": [
        "### Entrenamiento"
      ]
    },
    {
      "cell_type": "code",
      "metadata": {
        "id": "Ncu1S_DuDdpn"
      },
      "source": [
        "# Creación del modelo: usando 3 clústeres\n",
        "kmeans = KMeans(featuresCol='atributos_escalados',\n",
        "                predictionCol='prediccion',\n",
        "                k=3)\n",
        "\n",
        "# Entrenar el modelo\n",
        "modelo = kmeans.fit(df)"
      ],
      "execution_count": null,
      "outputs": []
    },
    {
      "cell_type": "code",
      "metadata": {
        "id": "sKAWxXKTDdpp"
      },
      "source": [
        "# Evaluar a través del SSE dentro de la clase\n",
        "sse = modelo.summary.trainingCost\n",
        "print(\"Suma de errores cuadráticos dentro de la clase: {:.3f}\".format(sse))"
      ],
      "execution_count": null,
      "outputs": []
    },
    {
      "cell_type": "code",
      "metadata": {
        "id": "CONnOMZNDdpr"
      },
      "source": [
        "# Centros de los clústeres\n",
        "centros = modelo.clusterCenters()\n",
        "\n",
        "print(\"Centros de los clústeres: \")\n",
        "for centro in centros:\n",
        "    print(centro)"
      ],
      "execution_count": null,
      "outputs": []
    },
    {
      "cell_type": "markdown",
      "metadata": {
        "id": "XljdzeWKxFWC"
      },
      "source": [
        "Luego se intentará ver el error con diferentes valores de K. En este caso no es necesario ya que a priori se sabe que hay solamente 3 grupos, pero se incluye aquí solo para ilustrar cómo se podría realizar."
      ]
    },
    {
      "cell_type": "code",
      "metadata": {
        "id": "uJiXWa_4vQ3d"
      },
      "source": [
        "# Escoger el número de clústeres\n",
        "import numpy as np\n",
        "import matplotlib.pyplot as plt\n",
        "\n",
        "Ks = np.arange(2, 26)\n",
        "SSEs = np.zeros(Ks.shape)\n",
        "\n",
        "for i, k in enumerate(Ks):\n",
        "    kmeans2 = KMeans(featuresCol='atributos_escalados', k=k)\n",
        "    modelo2 = kmeans2.fit(df)\n",
        "    sse = modelo2.summary.trainingCost\n",
        "    SSEs[i] = sse\n",
        "\n",
        "plt.plot(Ks, SSEs)\n",
        "plt.xlabel('k'); plt.ylabel('SSE')\n",
        "plt.grid()\n",
        "plt.show()"
      ],
      "execution_count": null,
      "outputs": []
    },
    {
      "cell_type": "code",
      "metadata": {
        "id": "8oaeIe8CSGpt"
      },
      "source": [
        "plt.plot(Ks, SSEs)\n",
        "plt.plot(Ks, SSEs, 'r.')\n",
        "plt.xlabel('k'); plt.ylabel('SSE')\n",
        "plt.grid()\n",
        "plt.show()"
      ],
      "execution_count": null,
      "outputs": []
    },
    {
      "cell_type": "code",
      "metadata": {
        "id": "AfOZJdrySeW2"
      },
      "source": [
        "n1 = len(SSEs)-1\n",
        "dif = np.zeros(n1)\n",
        "for i in range(n1):\n",
        "  dif[i] = np.abs(SSEs[i+1] - SSEs[i])\n",
        "plt.plot(dif,'.')\n",
        "plt.grid()"
      ],
      "execution_count": null,
      "outputs": []
    },
    {
      "cell_type": "markdown",
      "metadata": {
        "id": "8geDCVqiPrSO"
      },
      "source": [
        "### Predicción"
      ]
    },
    {
      "cell_type": "code",
      "metadata": {
        "id": "nX2JgAzSDdpt"
      },
      "source": [
        "# Predicción de las clases\n",
        "prediccion = modelo.transform(df)\n",
        "\n",
        "# Esquema (se agrega \"prediction\" al final del data frame)\n",
        "prediccion.printSchema()"
      ],
      "execution_count": null,
      "outputs": []
    },
    {
      "cell_type": "code",
      "metadata": {
        "id": "rs0xguOoxfw-"
      },
      "source": [
        "# Seleccionar solamente los atributos y las predicciones\n",
        "prediccion.select(['atributos_escalados', 'prediccion']).show(5, truncate=False)"
      ],
      "execution_count": null,
      "outputs": []
    }
  ]
}